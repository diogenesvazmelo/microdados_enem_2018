{
  "nbformat": 4,
  "nbformat_minor": 0,
  "metadata": {
    "colab": {
      "name": "Relatório_2.ipynb",
      "provenance": [],
      "collapsed_sections": [
        "RCtG26e4vyfq",
        "4PWQdDOe1QZx",
        "2UAUUo_dvXMQ",
        "mx4VmdcTx8s5",
        "ZXDctsUj4byY",
        "JplivP8n9DLL",
        "r1LxK_DqxDBh",
        "4MkuwubfxMvc",
        "BnixCyhix64a",
        "pyx3pjdmxZrL",
        "2CovwGL6Bqo_",
        "QHnFlZn8Bt55",
        "pBgFL9d5CNvF",
        "WhQwgtt5B4TS",
        "ViQP9xXVJh5D"
      ],
      "mount_file_id": "1c847GaF_TpXE1LqIJr7un9BxihNPlUGH",
      "authorship_tag": "ABX9TyN5ox1lb3cyzpzmVEeINCc7",
      "include_colab_link": true
    },
    "kernelspec": {
      "name": "python3",
      "display_name": "Python 3"
    }
  },
  "cells": [
    {
      "cell_type": "markdown",
      "metadata": {
        "id": "view-in-github",
        "colab_type": "text"
      },
      "source": [
        "<a href=\"https://colab.research.google.com/github/diogenesvazmelo/microdados_enem_2018/blob/master/Relat%C3%B3rio.ipynb\" target=\"_parent\"><img src=\"https://colab.research.google.com/assets/colab-badge.svg\" alt=\"Open In Colab\"/></a>"
      ]
    },
    {
      "cell_type": "markdown",
      "metadata": {
        "id": "M9hrw5jJ9Tfv",
        "colab_type": "text"
      },
      "source": [
        "## Carrega o Arquivo .csv com os dados"
      ]
    },
    {
      "cell_type": "code",
      "metadata": {
        "id": "hQ9Z9msVXsa0",
        "colab_type": "code",
        "colab": {}
      },
      "source": [
        "import pandas as pd\n",
        "path = \"/content/drive/My Drive/Estatísticas ENEM/MICRODADOS_ENEM_2018_SAMPLE_43278_TRANSFORMADOS.csv\"\n",
        "dados = pd.read_csv(path)# Dataset is now stored in a Pandas Dataframe"
      ],
      "execution_count": 0,
      "outputs": []
    },
    {
      "cell_type": "code",
      "metadata": {
        "id": "aZ2iLRP7dOny",
        "colab_type": "code",
        "colab": {}
      },
      "source": [
        "def le_como_array(coluna, caderno):\n",
        "  from ast import literal_eval\n",
        "  a = coluna.dropna().apply(literal_eval)\n",
        "  return (a)\n",
        "\n",
        "itens_prova_2018 = pd.read_csv(\"https://raw.githubusercontent.com/diogenesvazmelo/enem-2018/master/ITENS_PROVA_2018.csv\")\n",
        "\n",
        "cadernos = itens_prova_2018['SG_AREA'].unique()\n",
        "\n",
        "for caderno in cadernos:\n",
        "  dados['ACERTOS_{}'.format(caderno)] = le_como_array(dados['ACERTOS_{}'.format(caderno)], caderno)\n",
        "  dados['RESPOSTAS_TRANSFORMADAS_{}'.format(caderno)] = le_como_array(dados['RESPOSTAS_TRANSFORMADAS_{}'.format(caderno)], caderno)\n",
        "  dados['ACERTOS_TRANSFORMADOS_{}'.format(caderno)] = le_como_array(dados['ACERTOS_TRANSFORMADOS_{}'.format(caderno)], caderno)"
      ],
      "execution_count": 0,
      "outputs": []
    },
    {
      "cell_type": "markdown",
      "metadata": {
        "id": "0l-YSdMIblzy",
        "colab_type": "text"
      },
      "source": [
        "## Acertos totais por candidato e caderno \n",
        "\n",
        "Acertos de cada categoria (C, CH, MT, LC) - TX_RESPOSTAS e TX_GABARITO"
      ]
    },
    {
      "cell_type": "markdown",
      "metadata": {
        "id": "RCtG26e4vyfq",
        "colab_type": "text"
      },
      "source": [
        "### Scripts"
      ]
    },
    {
      "cell_type": "code",
      "metadata": {
        "id": "zMGDIY5zcy2A",
        "colab_type": "code",
        "colab": {}
      },
      "source": [
        "def gerar_acertos_totais_por_candidato_e_caderno(caderno):\n",
        "  import numpy as np\n",
        "  itens_prova_2018 = pd.read_csv(\"https://raw.githubusercontent.com/diogenesvazmelo/enem-2018/master/ITENS_PROVA_2018.csv\")\n",
        "  cadernos = itens_prova_2018['SG_AREA'].unique()\n",
        "  \n",
        "  acertos_totais_por_candidato_e_caderno = []\n",
        "  for linha in range(len(dados['ACERTOS_TRANSFORMADOS_{}'.format(caderno)])):\n",
        "    acertos_totais_por_candidato_e_caderno.append(np.sum(dados['ACERTOS_TRANSFORMADOS_{}'.format(caderno)][linha]))\n",
        "\n",
        "\n",
        "  acertos = pd.Series(acertos_totais_por_candidato_e_caderno)\n",
        "  acertos.index = dados['ACERTOS_TRANSFORMADOS_{}'.format(caderno)].index\n",
        "  acertos.name = 'ACERTOS_TOTAIS_{}'.format(caderno)\n",
        "  return acertos\n",
        "\n",
        "  return(acertos)"
      ],
      "execution_count": 0,
      "outputs": []
    },
    {
      "cell_type": "code",
      "metadata": {
        "id": "sHqmAlA3jeii",
        "colab_type": "code",
        "colab": {}
      },
      "source": [
        "acertos = [gerar_acertos_totais_por_candidato_e_caderno('CN'), gerar_acertos_totais_por_candidato_e_caderno('CH'), gerar_acertos_totais_por_candidato_e_caderno('LC'), gerar_acertos_totais_por_candidato_e_caderno('MT')]"
      ],
      "execution_count": 0,
      "outputs": []
    },
    {
      "cell_type": "code",
      "metadata": {
        "id": "KU02IVnMlVq6",
        "colab_type": "code",
        "colab": {}
      },
      "source": [
        "dados_com_acertos = dados\n",
        "dados_com_acertos = dados_com_acertos.join(acertos)\n",
        "dados = dados_com_acertos\n",
        "dados_com_acertos = dados_com_acertos[['NU_INSCRICAO', 'NU_NOTA_CN', 'ACERTOS_TOTAIS_CN', 'NU_NOTA_CH', 'ACERTOS_TOTAIS_CH', 'NU_NOTA_LC', 'ACERTOS_TOTAIS_LC', 'NU_NOTA_MT', 'ACERTOS_TOTAIS_MT', 'NU_NOTA_REDACAO']]\n"
      ],
      "execution_count": 0,
      "outputs": []
    },
    {
      "cell_type": "code",
      "metadata": {
        "id": "YhGG8QSorFCA",
        "colab_type": "code",
        "colab": {}
      },
      "source": [
        "dados_com_acertos"
      ],
      "execution_count": 0,
      "outputs": []
    },
    {
      "cell_type": "code",
      "metadata": {
        "id": "hTtsHj7srFAf",
        "colab_type": "code",
        "colab": {}
      },
      "source": [
        "def gera_df_nota_media_por_acertos(str_caderno):\n",
        "  nota_media_por_acertos = dados_com_acertos[['NU_NOTA_{}'.format(str_caderno), 'ACERTOS_TOTAIS_{}'.format(str_caderno)]].dropna().groupby('ACERTOS_TOTAIS_{}'.format(str_caderno)).mean()\n",
        "  nota_media_por_acertos['desvio_padrao_{}'.format(str_caderno)] = dados_com_acertos[['NU_NOTA_{}'.format(str_caderno), 'ACERTOS_TOTAIS_{}'.format(str_caderno)]].dropna().groupby('ACERTOS_TOTAIS_{}'.format(str_caderno)).std()\n",
        "  nota_media_por_acertos.rename(columns={'NU_NOTA_{}'.format(str_caderno): 'NU_NOTA_{}_media'.format(str_caderno)}, inplace = True)\n",
        "  return nota_media_por_acertos\n",
        "\n",
        "cadernos = ['CN', 'CH', 'LC', 'MT']\n",
        "\n",
        "nota_media_por_acertos = {}\n",
        "for caderno in cadernos:\n",
        "  nota_media_por_acertos[caderno] = gera_df_nota_media_por_acertos(caderno)\n"
      ],
      "execution_count": 0,
      "outputs": []
    },
    {
      "cell_type": "markdown",
      "metadata": {
        "id": "4PWQdDOe1QZx",
        "colab_type": "text"
      },
      "source": [
        "### Scripts dos Gráficos"
      ]
    },
    {
      "cell_type": "code",
      "metadata": {
        "id": "I7E_9LRxzCge",
        "colab_type": "code",
        "colab": {}
      },
      "source": [
        "def plota_graficos_errorbar(limite_inferior):\n",
        "  import seaborn as sns\n",
        "  import numpy as np\n",
        "  import matplotlib.pyplot as plt\n",
        "  import matplotlib.ticker as ticker\n",
        "\n",
        "  sns.set(style=\"darkgrid\")\n",
        "\n",
        "  def plotar_grafico_notas_acertos(nota_media_por_acertos, caderno):\n",
        "    fig = plt.figure(figsize=(20, 10))\n",
        "    plt.errorbar(nota_media_por_acertos.index, \n",
        "                nota_media_por_acertos['NU_NOTA_{}_media'.format(caderno)], \n",
        "                nota_media_por_acertos['desvio_padrao_{}'.format(caderno)], \n",
        "                linestyle='None', \n",
        "                marker='^',\n",
        "                mfc='red',\n",
        "                mec='green', ms=10, mew=0.4)\n",
        "\n",
        "    ax = fig.add_subplot(1, 1, 1)\n",
        "\n",
        "\n",
        "    # Major ticks every (tanto), minor ticks every (outro tanto)\n",
        "\n",
        "    start_x, end_x = ax.get_xlim()\n",
        "\n",
        "    major_ticks_x = np.arange(start_x-(start_x%10)+10, \n",
        "                              nota_media_por_acertos.index.max()+2, \n",
        "                              1)\n",
        "    minor_ticks_x = np.arange(start_x-(start_x%10)+10, \n",
        "                              end_x-(end_x%10)+10, \n",
        "                              1)\n",
        "\n",
        "\n",
        "    start_y, end_y = ax.get_ylim()\n",
        "\n",
        "    major_ticks_y = np.arange(start_y-(start_y%10)+10, \n",
        "                              end_y, \n",
        "                              10)\n",
        "    minor_ticks_y = np.arange(start_y-(start_y%10)+10, \n",
        "                              end_y,\n",
        "                              5)\n",
        "\n",
        "    ax.set_xticks(major_ticks_x)\n",
        "    #ax.set_xticks(minor_ticks_x, minor=True)\n",
        "    ax.set_yticks(major_ticks_y)\n",
        "    ax.set_yticks(minor_ticks_y, minor=True)\n",
        "\n",
        "    # And a corresponding grid\n",
        "    ax.grid(which='both')\n",
        "\n",
        "    # Or if you want different settings for the grids:\n",
        "    ax.grid(which='minor', alpha=10.0)\n",
        "    ax.grid(which='major', alpha=10.0)\n",
        "\n",
        "    plt.title('Nota média por acertos no caderno de {}'.format(caderno))\n",
        "    ax.set_ylabel('Notas médias')\n",
        "    ax.set_xlabel('Quantidades de acertos')\n",
        "\n",
        "    plt.show()\n",
        "\n",
        "  cadernos = ['CN', 'CH', 'LC', 'MT']\n",
        "  for caderno in cadernos:\n",
        "    nota_media_por_acertos_acima_de_20 = nota_media_por_acertos[caderno].query('index >= {}'.format(limite_inferior))\n",
        "    plotar_grafico_notas_acertos(nota_media_por_acertos_acima_de_20, caderno)"
      ],
      "execution_count": 0,
      "outputs": []
    },
    {
      "cell_type": "code",
      "metadata": {
        "id": "t1HqLrqf0Y-Y",
        "colab_type": "code",
        "colab": {}
      },
      "source": [
        "def plota_graficos_errorbar_2(limite_inferior, limite_superior):\n",
        "  import seaborn as sns\n",
        "  import numpy as np\n",
        "  import matplotlib.pyplot as plt\n",
        "  import matplotlib.ticker as ticker\n",
        "\n",
        "  sns.set(style=\"darkgrid\")\n",
        "\n",
        "  def plotar_grafico_notas_acertos(nota_media_por_acertos, caderno):\n",
        "    fig = plt.figure(figsize=(20, 10))\n",
        "    plt.errorbar(nota_media_por_acertos.index, \n",
        "                nota_media_por_acertos['NU_NOTA_{}_media'.format(caderno)], \n",
        "                nota_media_por_acertos['desvio_padrao_{}'.format(caderno)], \n",
        "                linestyle='None', \n",
        "                marker='^',\n",
        "                mfc='red',\n",
        "                mec='green', ms=10, mew=0.4)\n",
        "\n",
        "    ax = fig.add_subplot(1, 1, 1)\n",
        "\n",
        "\n",
        "    # Major ticks every (tanto), minor ticks every (outro tanto)\n",
        "\n",
        "    start_x, end_x = ax.get_xlim()\n",
        "\n",
        "    major_ticks_x = np.arange(start_x-(start_x%10)+0, \n",
        "                              nota_media_por_acertos.index.max()+2, \n",
        "                              1)\n",
        "    minor_ticks_x = np.arange(start_x-(start_x%10)+10, \n",
        "                              end_x-(end_x%10)+10, \n",
        "                              1)\n",
        "\n",
        "\n",
        "    start_y, end_y = ax.get_ylim()\n",
        "\n",
        "    major_ticks_y = np.arange(start_y-(start_y%10)+10, \n",
        "                              end_y, \n",
        "                              10)\n",
        "    minor_ticks_y = np.arange(start_y-(start_y%10)+10, \n",
        "                              end_y,\n",
        "                              5)\n",
        "\n",
        "    ax.set_xticks(major_ticks_x)\n",
        "    #ax.set_xticks(minor_ticks_x, minor=True)\n",
        "    ax.set_yticks(major_ticks_y)\n",
        "    ax.set_yticks(minor_ticks_y, minor=True)\n",
        "\n",
        "    # And a corresponding grid\n",
        "    ax.grid(which='both')\n",
        "\n",
        "    # Or if you want different settings for the grids:\n",
        "    ax.grid(which='minor', alpha=10.0)\n",
        "    ax.grid(which='major', alpha=10.0)\n",
        "\n",
        "    plt.title('Nota média por acertos no caderno de {}'.format(caderno))\n",
        "    ax.set_ylabel('Notas médias')\n",
        "    ax.set_xlabel('Quantidades de acertos')\n",
        "\n",
        "    plt.show()\n",
        "\n",
        "  cadernos = ['CN', 'CH', 'LC', 'MT']\n",
        "  for caderno in cadernos:\n",
        "    nota_media_por_acertos_acima_de_20 = nota_media_por_acertos[caderno].query('index >= {} and index <= {}'.format(limite_inferior, limite_superior))\n",
        "    plotar_grafico_notas_acertos(nota_media_por_acertos_acima_de_20, caderno)"
      ],
      "execution_count": 0,
      "outputs": []
    },
    {
      "cell_type": "markdown",
      "metadata": {
        "id": "2UAUUo_dvXMQ",
        "colab_type": "text"
      },
      "source": [
        "### Tabelas"
      ]
    },
    {
      "cell_type": "code",
      "metadata": {
        "id": "feSb0w4OrE9p",
        "colab_type": "code",
        "colab": {}
      },
      "source": [
        "nota_media_por_acertos['CN']"
      ],
      "execution_count": 0,
      "outputs": []
    },
    {
      "cell_type": "code",
      "metadata": {
        "id": "uNpZg7UmrE7x",
        "colab_type": "code",
        "colab": {}
      },
      "source": [
        "nota_media_por_acertos['CH']"
      ],
      "execution_count": 0,
      "outputs": []
    },
    {
      "cell_type": "code",
      "metadata": {
        "id": "raLfvRvOrE3m",
        "colab_type": "code",
        "colab": {}
      },
      "source": [
        "nota_media_por_acertos['LC']"
      ],
      "execution_count": 0,
      "outputs": []
    },
    {
      "cell_type": "code",
      "metadata": {
        "id": "WLGk7mTPrEz9",
        "colab_type": "code",
        "colab": {}
      },
      "source": [
        "nota_media_por_acertos['MT']"
      ],
      "execution_count": 0,
      "outputs": []
    },
    {
      "cell_type": "markdown",
      "metadata": {
        "id": "HQe9Ht6ru5Eb",
        "colab_type": "text"
      },
      "source": [
        "### Gráficos Errorbar\n",
        "\n"
      ]
    },
    {
      "cell_type": "code",
      "metadata": {
        "id": "go4vu0lWrzNq",
        "colab_type": "code",
        "colab": {}
      },
      "source": [
        "plota_graficos_errorbar(20)"
      ],
      "execution_count": 0,
      "outputs": []
    },
    {
      "cell_type": "code",
      "metadata": {
        "id": "0RwBFSuguZ0r",
        "colab_type": "code",
        "colab": {}
      },
      "source": [
        "plota_graficos_errorbar_2(1, 19)"
      ],
      "execution_count": 0,
      "outputs": []
    },
    {
      "cell_type": "markdown",
      "metadata": {
        "id": "mx4VmdcTx8s5",
        "colab_type": "text"
      },
      "source": [
        "### Gráficos Boxplot"
      ]
    },
    {
      "cell_type": "code",
      "metadata": {
        "id": "3VgwSaxFyNeI",
        "colab_type": "code",
        "colab": {}
      },
      "source": [
        "import numpy as np\n",
        "import matplotlib.pyplot as plt\n",
        "import matplotlib.ticker as ticker\n",
        "import seaborn as sns\n",
        "\n",
        "sns.set(style=\"darkgrid\")\n",
        "\n",
        "def plotar_grafico_notas_acertos(nota_media_por_acertos, caderno):\n",
        "  fig = plt.figure(1, figsize=(20, 10))\n",
        "  sns.boxplot(x=nota_media_por_acertos['ACERTOS_TOTAIS_{}'.format(caderno)], \n",
        "              y=nota_media_por_acertos['NU_NOTA_{}'.format(caderno)],\n",
        "              data=nota_media_por_acertos)\n",
        "\n",
        "  ax = fig.add_subplot(111)\n",
        "\n",
        "  start_x, end_x = ax.get_xlim()\n",
        "  ax.set_xticks(np.arange(start_x-(start_x%10)+10, \n",
        "                          end_x, \n",
        "                          1))\n",
        "\n",
        "  start_y, end_y = ax.get_ylim()\n",
        "  ax.set_yticks(np.arange(start_y-(start_y%10)+10, \n",
        "                          end_y, \n",
        "                          10))\n",
        "  #ax.xaxis.set_major_locator(ticker.MultipleLocator())\n",
        "  ax.xaxis.set_major_formatter(ticker.ScalarFormatter(-(nota_media_por_acertos['ACERTOS_TOTAIS_{}'.format(caderno)].min())))\n",
        "  \n",
        "  ax.grid(True)\n",
        "\n",
        "\n",
        "  plt.title('Boxplot notas por acertos no caderno de {}'.format(caderno))\n",
        "  ax.set_ylabel('Nota')\n",
        "  ax.set_xlabel('Quantidades de acertos')\n",
        "\n",
        "  plt.show()\n",
        "\n",
        "for caderno in cadernos:\n",
        "  notas_por_acertos_acima_de_20 = dados_com_acertos[['NU_NOTA_{}'.format(caderno), 'ACERTOS_TOTAIS_{}'.format(caderno)]].dropna().query('ACERTOS_TOTAIS_{} >= 20'.format(caderno))\n",
        "  plotar_grafico_notas_acertos(notas_por_acertos_acima_de_20, caderno)\n"
      ],
      "execution_count": 0,
      "outputs": []
    },
    {
      "cell_type": "markdown",
      "metadata": {
        "id": "ZXDctsUj4byY",
        "colab_type": "text"
      },
      "source": [
        "### Coisas para se explorar"
      ]
    },
    {
      "cell_type": "code",
      "metadata": {
        "id": "aVz59Vp_4gWN",
        "colab_type": "code",
        "colab": {}
      },
      "source": [
        "#### Correlação acertos (acima de 20) com o desvio padrão das notas\n",
        "\n",
        "dados_com_acertos_e_std = dados_com_acertos\n",
        "\n",
        "for caderno in cadernos:\n",
        "  dados_com_acertos_e_std = dados_com_acertos_e_std.join(nota_media_por_acertos['{}'.format(caderno)]['desvio_padrao_{}'.format(caderno)], on='ACERTOS_TOTAIS_{}'.format(caderno))\n",
        "\n",
        "dados_com_acertos_e_std = dados_com_acertos_e_std[['NU_NOTA_CN', 'ACERTOS_TOTAIS_CN', 'desvio_padrao_CN','NU_NOTA_CH', 'ACERTOS_TOTAIS_CH', 'desvio_padrao_CH', 'NU_NOTA_LC', 'ACERTOS_TOTAIS_LC', 'desvio_padrao_LC', 'NU_NOTA_MT', 'ACERTOS_TOTAIS_MT', 'desvio_padrao_MT','NU_NOTA_REDACAO']]\n",
        "dados_com_acertos_e_std\n",
        "\n",
        "for caderno in cadernos:\n",
        "  result = nota_media_por_acertos['{}'.format(caderno)].reset_index()[['ACERTOS_TOTAIS_{}'.format(caderno), 'desvio_padrao_{}'.format(caderno)]].query('ACERTOS_TOTAIS_{} >= 20'.format(caderno)).corr()\n",
        "  print(result)\n"
      ],
      "execution_count": 0,
      "outputs": []
    },
    {
      "cell_type": "markdown",
      "metadata": {
        "id": "JplivP8n9DLL",
        "colab_type": "text"
      },
      "source": [
        "## Quantidade de acertos por questão - Termos absolutos"
      ]
    },
    {
      "cell_type": "markdown",
      "metadata": {
        "id": "r1LxK_DqxDBh",
        "colab_type": "text"
      },
      "source": [
        "### Script"
      ]
    },
    {
      "cell_type": "code",
      "metadata": {
        "id": "IbeGiF6ELjgx",
        "colab_type": "code",
        "colab": {}
      },
      "source": [
        "def gerar_num_acertos_por_questao(LISTAS_ACERTOS, caderno):\n",
        "  #if (caderno == 'LC'):\n",
        "  quantidade_acertos = [0] * 50\n",
        "  #else:\n",
        "  #  quantidade_acertos = [0] * 45\n",
        "\n",
        "  for i in range(len(l)):\n",
        "    for j in range(len(l[i])):\n",
        "      #print(LISTAS_ACERTOS[i][j])\n",
        "      if (l[i][j] == 1):\n",
        "        quantidade_acertos[j] += 1\n",
        "\n",
        "  return quantidade_acertos\n",
        "\n",
        "\n",
        "total_acertos_por_questao_dict = {}\n",
        "\n",
        "cadernos = ['CN', 'CH', 'LC', 'MT']\n",
        "\n",
        "for caderno in cadernos:\n",
        "  l = dados['ACERTOS_TRANSFORMADOS_{}'.format(caderno)].dropna().to_list()\n",
        "  total_acertos = gerar_num_acertos_por_questao(l, caderno)\n",
        "\n",
        "  total_acertos = pd.Series(total_acertos)\n",
        "  total_acertos_por_questao_dict[caderno] = total_acertos\n",
        "\n",
        "total_acertos_por_questao = pd.DataFrame(total_acertos_por_questao_dict)\n",
        "\n",
        "\n",
        "\n",
        "\n",
        "\n",
        "total_acertos_por_questao.index.name = 'Questao'\n",
        "total_acertos_por_questao = total_acertos_por_questao.reset_index()\n",
        "\n",
        "import pandas as pd\n",
        "um_ate_50 = pd.Series(range(1,51))\n",
        "total_acertos_por_questao['Questao'] = um_ate_50\n"
      ],
      "execution_count": 0,
      "outputs": []
    },
    {
      "cell_type": "code",
      "metadata": {
        "id": "M_X0okfGXR3F",
        "colab_type": "code",
        "colab": {}
      },
      "source": [
        "total_acertos_por_questao_nan = total_acertos_por_questao.replace({0:np.nan})\n",
        "# A linha abaixo substitui tanto zeros int quanto zeros string para nan\n",
        "# total_acertos_por_questao_nan = total_acertos_por_questao.replace({'0':np.nan, 0:np.nan}) "
      ],
      "execution_count": 0,
      "outputs": []
    },
    {
      "cell_type": "markdown",
      "metadata": {
        "id": "4MkuwubfxMvc",
        "colab_type": "text"
      },
      "source": [
        "### Tabelas"
      ]
    },
    {
      "cell_type": "code",
      "metadata": {
        "id": "-4l8TpvkXt-f",
        "colab_type": "code",
        "colab": {}
      },
      "source": [
        "total_acertos_por_questao_nan"
      ],
      "execution_count": 0,
      "outputs": []
    },
    {
      "cell_type": "code",
      "metadata": {
        "id": "nkhn1ZS2eOOG",
        "colab_type": "code",
        "colab": {}
      },
      "source": [
        "total_acertos_por_questao"
      ],
      "execution_count": 0,
      "outputs": []
    },
    {
      "cell_type": "code",
      "metadata": {
        "id": "mgYzChvUDsI7",
        "colab_type": "code",
        "colab": {}
      },
      "source": [
        "total_acertos_por_questao.sort_values(by='MT', ascending=False)"
      ],
      "execution_count": 0,
      "outputs": []
    },
    {
      "cell_type": "markdown",
      "metadata": {
        "id": "BnixCyhix64a",
        "colab_type": "text"
      },
      "source": [
        "### Scripts dos Gráficos"
      ]
    },
    {
      "cell_type": "code",
      "metadata": {
        "id": "puONuNoYyALL",
        "colab_type": "code",
        "colab": {}
      },
      "source": [
        "def plotar_grafico_acertos_por_questao_relplot(caderno):\n",
        "  import seaborn as sns\n",
        "  sns.relplot(x=\"index\", \n",
        "              y=\"{}\".format(caderno), \n",
        "              #hue=\"origin\", \n",
        "              size=\"{}\".format(caderno),\n",
        "              sizes=(40, 400), alpha=.9, palette=\"muted\",\n",
        "              height=6, \n",
        "              data=total_acertos_por_questao.reset_index().query('{} > 0'.format(caderno)))"
      ],
      "execution_count": 0,
      "outputs": []
    },
    {
      "cell_type": "code",
      "metadata": {
        "id": "9QaEUJAq45Nq",
        "colab_type": "code",
        "colab": {}
      },
      "source": [
        "##### Esses imports são para trabalhar localmente \n",
        "\n",
        "# import pandas as pd\n",
        "# import plotly.offline as py\n",
        "# import plotly.graph_objs as go\n",
        "# py.init_notebook_mode(connected=True)"
      ],
      "execution_count": 0,
      "outputs": []
    },
    {
      "cell_type": "code",
      "metadata": {
        "id": "Ty0IOLRx70DA",
        "colab_type": "code",
        "colab": {}
      },
      "source": [
        "import pandas as pd\n",
        "import numpy as np\n",
        "\n",
        "from scipy import stats \n",
        "from plotly.offline import iplot, init_notebook_mode\n",
        "import plotly.graph_objs as go\n",
        "\n",
        "#py.init_notebook_mode(connected=False)"
      ],
      "execution_count": 0,
      "outputs": []
    },
    {
      "cell_type": "code",
      "metadata": {
        "id": "72CSAuSU75vn",
        "colab_type": "code",
        "colab": {}
      },
      "source": [
        "# Devido o Plotly estar sendo utilizado no Google Collab, precisaremos definir\n",
        "# a função abaixo e chamá-la sempre que quisermos exibir um gráfico\n",
        "\n",
        "def configure_plotly_browser_state():\n",
        "  import IPython\n",
        "  display(IPython.core.display.HTML('''\n",
        "        <script src=\"/static/components/requirejs/require.js\"></script>\n",
        "        <script>\n",
        "          requirejs.config({\n",
        "            paths: {\n",
        "              base: '/static/base',\n",
        "              plotly: 'https://cdn.plot.ly/plotly-1.5.1.min.js?noext',\n",
        "            },\n",
        "          });\n",
        "        </script>\n",
        "        '''))"
      ],
      "execution_count": 0,
      "outputs": []
    },
    {
      "cell_type": "code",
      "metadata": {
        "id": "_CDDd4rKYDae",
        "colab_type": "code",
        "colab": {}
      },
      "source": [
        ""
      ],
      "execution_count": 0,
      "outputs": []
    },
    {
      "cell_type": "code",
      "metadata": {
        "id": "t_VyLCJm68QY",
        "colab_type": "code",
        "colab": {}
      },
      "source": [
        "import plotly.offline as py\n",
        "\n",
        "configure_plotly_browser_state()\n",
        "py.init_notebook_mode(connected=False)\n",
        "\n",
        "data = []\n",
        "\n",
        "\n",
        "def cria_grafico_scatter_acertos(caderno):\n",
        "  trace = go.Scatter(x = total_acertos_por_questao['Questao'],\n",
        "                    y = total_acertos_por_questao['{}'.format(caderno)],\n",
        "                    name = '{}'.format(caderno),\n",
        "                    mode = 'markers')\n",
        "  return trace\n",
        "\n",
        "cadernos = ['CN', 'CH', 'LC', 'MT']\n",
        "for caderno in cadernos:\n",
        "  data.append(cria_grafico_scatter_acertos(caderno))\n",
        "\n",
        "# data = [trace]\n",
        "\n",
        "py.iplot(data)"
      ],
      "execution_count": 0,
      "outputs": []
    },
    {
      "cell_type": "code",
      "metadata": {
        "id": "CZQJi54DYHdl",
        "colab_type": "code",
        "colab": {}
      },
      "source": [
        "import plotly.offline as py\n",
        "\n",
        "configure_plotly_browser_state()\n",
        "py.init_notebook_mode(connected=False)\n",
        "\n",
        "data = []\n",
        "\n",
        "\n",
        "def cria_grafico_scatter_acertos(caderno):\n",
        "  trace = go.Scatter(x = total_acertos_por_questao_nan['Questao'],\n",
        "                    y = total_acertos_por_questao_nan['{}'.format(caderno)],\n",
        "                    name = '{}'.format(caderno),\n",
        "                    mode = 'markers')\n",
        "  return trace\n",
        "\n",
        "cadernos = ['CN', 'CH', 'LC', 'MT']\n",
        "for caderno in cadernos:\n",
        "  data.append(cria_grafico_scatter_acertos(caderno))\n",
        "\n",
        "# data = [trace]\n",
        "layout = go.Layout(title = 'Dispersão de acertos para cada caderno do ENEM 2018',\n",
        "                   titlefont = {'family': 'Arial',\n",
        "                                'size': 22,\n",
        "                                'color': '#7f7f7f'},\n",
        "                   xaxis = {'title': 'Número da questão (com base na prova de cor amarela)'},\n",
        "                   yaxis = {'title': 'Quantidade de Acertos'},\n",
        "                   #paper_bgcolor = 'rgb(243, 243, 243)',\n",
        "                   #plot_bgcolor = 'rgb(243, 243, 243)'\n",
        "                   )\n",
        "\n",
        "\n",
        "fig = go.Figure(data=data, layout=layout)\n",
        "fig.update_xaxes(tick0=0, dtick=1)\n",
        "fig.update_xaxes(range=[0.5, 50.5])\n",
        "fig.update_yaxes(tick0=10000, dtick=5000)\n",
        "py.iplot(fig)"
      ],
      "execution_count": 0,
      "outputs": []
    },
    {
      "cell_type": "code",
      "metadata": {
        "id": "msdJy-6Eto4m",
        "colab_type": "code",
        "colab": {}
      },
      "source": [
        "def gera_acertos_por_questao_plotly(titulo, label_eixo_x, label_eixo_y):\n",
        "  import plotly.offline as py\n",
        "\n",
        "  configure_plotly_browser_state()\n",
        "  py.init_notebook_mode(connected=False)\n",
        "\n",
        "  data = []\n",
        "\n",
        "\n",
        "  def cria_grafico_scatter_acertos(caderno):\n",
        "    trace = go.Scatter(x = total_acertos_por_questao_nan['Questao'],\n",
        "                      y = total_acertos_por_questao_nan['{}'.format(caderno)],\n",
        "                      name = '{}'.format(caderno),\n",
        "                      mode = 'markers')\n",
        "    return trace\n",
        "\n",
        "  cadernos = ['CN', 'CH', 'LC', 'MT']\n",
        "  for caderno in cadernos:\n",
        "    data.append(cria_grafico_scatter_acertos(caderno))\n",
        "\n",
        "  # data = [trace]\n",
        "  layout = go.Layout(title = '{}'.format(titulo),\n",
        "                    titlefont = {'family': 'Arial',\n",
        "                                  'size': 22,\n",
        "                                  'color': '#7f7f7f'},\n",
        "                    xaxis = {'title': '{}'.format(label_eixo_x)},\n",
        "                    yaxis = {'title': '{}'.format(label_eixo_y)},\n",
        "                    #paper_bgcolor = 'rgb(243, 243, 243)',\n",
        "                    #plot_bgcolor = 'rgb(243, 243, 243)'\n",
        "                    )\n",
        "\n",
        "\n",
        "  fig = go.Figure(data=data, layout=layout)\n",
        "  fig.update_xaxes(tick0=0, dtick=1)\n",
        "  fig.update_xaxes(range=[0.5, 50.5])\n",
        "  fig.update_yaxes(tick0=10000, dtick=5000)\n",
        "  py.iplot(fig)"
      ],
      "execution_count": 0,
      "outputs": []
    },
    {
      "cell_type": "code",
      "metadata": {
        "id": "9mjai5TK8bgv",
        "colab_type": "code",
        "colab": {}
      },
      "source": [
        "total_acertos_por_questao.index.values"
      ],
      "execution_count": 0,
      "outputs": []
    },
    {
      "cell_type": "code",
      "metadata": {
        "id": "VLo1IdGZ8bdf",
        "colab_type": "code",
        "colab": {}
      },
      "source": [
        ""
      ],
      "execution_count": 0,
      "outputs": []
    },
    {
      "cell_type": "markdown",
      "metadata": {
        "id": "pyx3pjdmxZrL",
        "colab_type": "text"
      },
      "source": [
        "### Gráficos"
      ]
    },
    {
      "cell_type": "code",
      "metadata": {
        "id": "tvvt7lTyuV5k",
        "colab_type": "code",
        "colab": {}
      },
      "source": [
        "titulo = 'Total de acertos por questão do ENEM 2018'\n",
        "label_eixo_x = 'Número da questão (com base na prova de cor amarela)'\n",
        "label_eixo_y = 'Quantidade de Acertos'\n",
        "\n",
        "gera_acertos_por_questao_plotly(titulo, label_eixo_x, label_eixo_y)"
      ],
      "execution_count": 0,
      "outputs": []
    },
    {
      "cell_type": "code",
      "metadata": {
        "id": "dnrjh4F5xoZa",
        "colab_type": "code",
        "colab": {}
      },
      "source": [
        "#plotar_grafico_acertos_por_questao_relplot('CN')"
      ],
      "execution_count": 0,
      "outputs": []
    },
    {
      "cell_type": "markdown",
      "metadata": {
        "id": "P5cXhn9Fu-sG",
        "colab_type": "text"
      },
      "source": [
        "## Quantidade de acertos por questão - Porcentagem"
      ]
    },
    {
      "cell_type": "markdown",
      "metadata": {
        "id": "2CovwGL6Bqo_",
        "colab_type": "text"
      },
      "source": [
        "### Script"
      ]
    },
    {
      "cell_type": "code",
      "metadata": {
        "id": "wAqrU5OmvI2g",
        "colab_type": "code",
        "colab": {}
      },
      "source": [
        "total_acertos_porcentagem = total_acertos_por_questao_nan\n",
        "\n",
        "cadernos = ['CN', 'CH', 'LC', 'MT']\n",
        "for caderno in cadernos:\n",
        "  quantidade = len(dados[['ACERTOS_TOTAIS_{}'.format(caderno)]].dropna())\n",
        "  total_acertos_porcentagem['PORCENTAGEM_DE_ACERTOS_{}'.format(caderno)] = total_acertos_por_questao_nan['{}'.format(caderno)]*100/quantidade"
      ],
      "execution_count": 0,
      "outputs": []
    },
    {
      "cell_type": "markdown",
      "metadata": {
        "id": "QHnFlZn8Bt55",
        "colab_type": "text"
      },
      "source": [
        "### Tabelas"
      ]
    },
    {
      "cell_type": "code",
      "metadata": {
        "id": "cun7b5i6B0AC",
        "colab_type": "code",
        "colab": {}
      },
      "source": [
        "total_acertos_porcentagem"
      ],
      "execution_count": 0,
      "outputs": []
    },
    {
      "cell_type": "markdown",
      "metadata": {
        "id": "pBgFL9d5CNvF",
        "colab_type": "text"
      },
      "source": [
        "### Script dos Gráficos"
      ]
    },
    {
      "cell_type": "code",
      "metadata": {
        "id": "RZ5zCKoXCRQE",
        "colab_type": "code",
        "colab": {}
      },
      "source": [
        "def gera_porcentagem_acertos_por_questao_plotly(titulo, label_eixo_x, label_eixo_y):\n",
        "  import plotly.offline as py\n",
        "\n",
        "  configure_plotly_browser_state()\n",
        "  py.init_notebook_mode(connected=False)\n",
        "\n",
        "  data = []\n",
        "\n",
        "\n",
        "  def cria_grafico_scatter_acertos(caderno):\n",
        "    trace = go.Scatter(x = total_acertos_porcentagem['Questao'],\n",
        "                      y = total_acertos_porcentagem['PORCENTAGEM_DE_ACERTOS_{}'.format(caderno)],\n",
        "                      name = '{}'.format(caderno),\n",
        "                      mode = 'markers')\n",
        "    return trace\n",
        "\n",
        "  cadernos = ['CN', 'CH', 'LC', 'MT']\n",
        "  for caderno in cadernos:\n",
        "    data.append(cria_grafico_scatter_acertos(caderno))\n",
        "\n",
        "  # data = [trace]\n",
        "  layout = go.Layout(title = '{}'.format(titulo),\n",
        "                    titlefont = {'family': 'Arial',\n",
        "                                  'size': 22,\n",
        "                                  'color': '#7f7f7f'},\n",
        "                    xaxis = {'title': '{}'.format(label_eixo_x)},\n",
        "                    yaxis = {'title': '{}'.format(label_eixo_y)},\n",
        "                    #paper_bgcolor = 'rgb(243, 243, 243)',\n",
        "                    #plot_bgcolor = 'rgb(243, 243, 243)'\n",
        "                    )\n",
        "\n",
        "\n",
        "  fig = go.Figure(data=data, layout=layout)\n",
        "  fig.update_xaxes(tick0=0, dtick=1)\n",
        "  fig.update_xaxes(range=[0.5, 50.5])\n",
        "  fig.update_yaxes(tick0=0, dtick=5)\n",
        "  py.iplot(fig)"
      ],
      "execution_count": 0,
      "outputs": []
    },
    {
      "cell_type": "markdown",
      "metadata": {
        "id": "WhQwgtt5B4TS",
        "colab_type": "text"
      },
      "source": [
        "### Gráficos"
      ]
    },
    {
      "cell_type": "code",
      "metadata": {
        "id": "uom4vA0FB78f",
        "colab_type": "code",
        "colab": {}
      },
      "source": [
        "titulo = 'Porcentagem de acertos para cada questão do ENEM 2018'\n",
        "label_eixo_x = 'Número da questão (com base na prova de cor amarela)'\n",
        "label_eixo_y = 'Porcentagem de Acertos'\n",
        "\n",
        "gera_porcentagem_acertos_por_questao_plotly(titulo, label_eixo_x, label_eixo_y)"
      ],
      "execution_count": 0,
      "outputs": []
    },
    {
      "cell_type": "markdown",
      "metadata": {
        "id": "QOcKxWbA7XjI",
        "colab_type": "text"
      },
      "source": [
        "### Questões com mais erros e mais acertos"
      ]
    },
    {
      "cell_type": "markdown",
      "metadata": {
        "id": "DMbtB5FQ7ojX",
        "colab_type": "text"
      },
      "source": [
        "**CN**"
      ]
    },
    {
      "cell_type": "markdown",
      "metadata": {
        "id": "DaGHsLf5-pVp",
        "colab_type": "text"
      },
      "source": [
        "> Mais acertos\n",
        "\n",
        "\n",
        "\n"
      ]
    },
    {
      "cell_type": "code",
      "metadata": {
        "id": "u24bE7Xt7di-",
        "colab_type": "code",
        "colab": {}
      },
      "source": [
        "caderno = 'CN'\n",
        "total_acertos_porcentagem[['Questao', 'PORCENTAGEM_DE_ACERTOS_{}'.format(caderno)]].sort_values(by='PORCENTAGEM_DE_ACERTOS_{}'.format(caderno), ascending=False).head(15)"
      ],
      "execution_count": 0,
      "outputs": []
    },
    {
      "cell_type": "markdown",
      "metadata": {
        "colab_type": "text",
        "id": "eJ4nZzfV-0sh"
      },
      "source": [
        "> Mais Erros\n",
        "\n",
        "\n",
        "\n",
        "\n",
        "\n"
      ]
    },
    {
      "cell_type": "code",
      "metadata": {
        "id": "DjLa1RUB8gPL",
        "colab_type": "code",
        "colab": {}
      },
      "source": [
        "caderno = 'CN'\n",
        "total_acertos_porcentagem[['Questao', 'PORCENTAGEM_DE_ACERTOS_{}'.format(caderno)]].sort_values(by='PORCENTAGEM_DE_ACERTOS_{}'.format(caderno), ascending=True).head()"
      ],
      "execution_count": 0,
      "outputs": []
    },
    {
      "cell_type": "markdown",
      "metadata": {
        "colab_type": "text",
        "id": "Q36mmtjy9kBV"
      },
      "source": [
        "**CH**\n",
        "\n"
      ]
    },
    {
      "cell_type": "markdown",
      "metadata": {
        "colab_type": "text",
        "id": "5P7FVEtd_IPB"
      },
      "source": [
        "> Mais acertos\n",
        "\n",
        "\n",
        "\n"
      ]
    },
    {
      "cell_type": "code",
      "metadata": {
        "colab_type": "code",
        "id": "Il_Ga6ST9kBe",
        "colab": {}
      },
      "source": [
        "caderno = 'CH'\n",
        "total_acertos_porcentagem[['Questao', 'PORCENTAGEM_DE_ACERTOS_{}'.format(caderno)]].sort_values(by='PORCENTAGEM_DE_ACERTOS_{}'.format(caderno), ascending=False).head()"
      ],
      "execution_count": 0,
      "outputs": []
    },
    {
      "cell_type": "markdown",
      "metadata": {
        "colab_type": "text",
        "id": "CzA-_8Mq_KtQ"
      },
      "source": [
        "> Mais Erros\n",
        "\n",
        "\n",
        "\n"
      ]
    },
    {
      "cell_type": "code",
      "metadata": {
        "colab_type": "code",
        "id": "uKQjz0IM9kB6",
        "colab": {}
      },
      "source": [
        "caderno = 'CH'\n",
        "total_acertos_porcentagem[['Questao', 'PORCENTAGEM_DE_ACERTOS_{}'.format(caderno)]].sort_values(by='PORCENTAGEM_DE_ACERTOS_{}'.format(caderno), ascending=True).head()"
      ],
      "execution_count": 0,
      "outputs": []
    },
    {
      "cell_type": "markdown",
      "metadata": {
        "colab_type": "text",
        "id": "kIz3JLYWAlW8"
      },
      "source": [
        "**LC**\n",
        "\n"
      ]
    },
    {
      "cell_type": "markdown",
      "metadata": {
        "colab_type": "text",
        "id": "O56nuAvRAlW_"
      },
      "source": [
        "> Mais acertos\n",
        "\n",
        "\n",
        "\n"
      ]
    },
    {
      "cell_type": "code",
      "metadata": {
        "colab_type": "code",
        "id": "6y_g3-wuAlXD",
        "colab": {}
      },
      "source": [
        "caderno = 'LC'\n",
        "total_acertos_porcentagem[['Questao', 'PORCENTAGEM_DE_ACERTOS_{}'.format(caderno)]].sort_values(by='PORCENTAGEM_DE_ACERTOS_{}'.format(caderno), ascending=False).head()"
      ],
      "execution_count": 0,
      "outputs": []
    },
    {
      "cell_type": "markdown",
      "metadata": {
        "colab_type": "text",
        "id": "xl1A-7tQAlXS"
      },
      "source": [
        "> Mais Erros\n",
        "\n",
        "\n",
        "\n"
      ]
    },
    {
      "cell_type": "code",
      "metadata": {
        "colab_type": "code",
        "id": "OMe-g0LOAlXU",
        "colab": {}
      },
      "source": [
        "caderno = 'LC'\n",
        "total_acertos_porcentagem[['Questao', 'PORCENTAGEM_DE_ACERTOS_{}'.format(caderno)]].sort_values(by='PORCENTAGEM_DE_ACERTOS_{}'.format(caderno), ascending=True).head()"
      ],
      "execution_count": 0,
      "outputs": []
    },
    {
      "cell_type": "markdown",
      "metadata": {
        "colab_type": "text",
        "id": "39YHfNDVAnox"
      },
      "source": [
        "**MT**\n",
        "\n"
      ]
    },
    {
      "cell_type": "markdown",
      "metadata": {
        "colab_type": "text",
        "id": "2Fh4aZxrAno1"
      },
      "source": [
        "> Mais acertos\n",
        "\n",
        "\n",
        "\n"
      ]
    },
    {
      "cell_type": "code",
      "metadata": {
        "colab_type": "code",
        "id": "dUNmEdhwAno3",
        "colab": {}
      },
      "source": [
        "caderno = 'MT'\n",
        "total_acertos_porcentagem[['Questao', 'PORCENTAGEM_DE_ACERTOS_{}'.format(caderno)]].sort_values(by='PORCENTAGEM_DE_ACERTOS_{}'.format(caderno), ascending=False).head()"
      ],
      "execution_count": 0,
      "outputs": []
    },
    {
      "cell_type": "markdown",
      "metadata": {
        "colab_type": "text",
        "id": "hcuEs7s4AnpA"
      },
      "source": [
        "> Mais Erros\n",
        "\n",
        "\n",
        "\n"
      ]
    },
    {
      "cell_type": "code",
      "metadata": {
        "colab_type": "code",
        "id": "jljnSlz6AnpC",
        "colab": {}
      },
      "source": [
        "caderno = 'MT'\n",
        "total_acertos_porcentagem[['Questao', 'PORCENTAGEM_DE_ACERTOS_{}'.format(caderno)]].sort_values(by='PORCENTAGEM_DE_ACERTOS_{}'.format(caderno), ascending=True).head()"
      ],
      "execution_count": 0,
      "outputs": []
    },
    {
      "cell_type": "markdown",
      "metadata": {
        "id": "ViQP9xXVJh5D",
        "colab_type": "text"
      },
      "source": [
        "## Média de acertos"
      ]
    },
    {
      "cell_type": "code",
      "metadata": {
        "id": "RhiBvxyzJtE0",
        "colab_type": "code",
        "colab": {}
      },
      "source": [
        "dados_com_acertos"
      ],
      "execution_count": 0,
      "outputs": []
    },
    {
      "cell_type": "code",
      "metadata": {
        "id": "HqPYZjNpLYam",
        "colab_type": "code",
        "colab": {}
      },
      "source": [
        "def gera_media_acertos_por_caderno_plotly(titulo, label_eixo_x, label_eixo_y, coluna):\n",
        "  import plotly.offline as py\n",
        "\n",
        "  configure_plotly_browser_state()\n",
        "  py.init_notebook_mode(connected=False)\n",
        "\n",
        "  data = []\n",
        "\n",
        "\n",
        "  def cria_grafico_boxplot_acertos(caderno, coluna):\n",
        "    trace = go.Box(#x = total_acertos_porcentagem['Questao'],\n",
        "                      y = dados_com_acertos['{}_{}'.format(coluna, caderno)],\n",
        "                      name = '{}'.format(caderno))\n",
        "    return trace\n",
        "\n",
        "  cadernos = ['CN', 'CH', 'LC', 'MT']\n",
        "  for caderno in cadernos:\n",
        "    data.append(cria_grafico_boxplot_acertos(caderno, coluna))\n",
        "\n",
        "  # data = [trace]\n",
        "  layout = go.Layout(title = '{}'.format(titulo),\n",
        "                    titlefont = {'family': 'Arial',\n",
        "                                  'size': 22,\n",
        "                                  'color': '#7f7f7f'},\n",
        "                    xaxis = {'title': '{}'.format(label_eixo_x)},\n",
        "                    yaxis = {'title': '{}'.format(label_eixo_y)},\n",
        "                    #paper_bgcolor = 'rgb(243, 243, 243)',\n",
        "                    #plot_bgcolor = 'rgb(243, 243, 243)'\n",
        "                    )\n",
        "\n",
        "\n",
        "  fig = go.Figure(data=data, layout=layout)\n",
        "  # fig.update_xaxes(tick0=0, dtick=1)\n",
        "  # fig.update_xaxes(range=[0.5, 50.5])\n",
        "  # fig.update_yaxes(tick0=0, dtick=5)\n",
        "  py.iplot(fig)"
      ],
      "execution_count": 0,
      "outputs": []
    },
    {
      "cell_type": "code",
      "metadata": {
        "id": "a6hONDAEM-Kf",
        "colab_type": "code",
        "colab": {}
      },
      "source": [
        "gera_media_acertos_por_caderno_plotly('a', 'b', 'c', 'NU_NOTA')"
      ],
      "execution_count": 0,
      "outputs": []
    },
    {
      "cell_type": "code",
      "metadata": {
        "id": "4lLkAj5ZQXI_",
        "colab_type": "code",
        "colab": {}
      },
      "source": [
        "gera_media_acertos_por_caderno_plotly('a', 'b', 'c', 'ACERTOS_TOTAIS')"
      ],
      "execution_count": 0,
      "outputs": []
    },
    {
      "cell_type": "markdown",
      "metadata": {
        "id": "L6lJmUmMVY5J",
        "colab_type": "text"
      },
      "source": [
        "## Outros"
      ]
    },
    {
      "cell_type": "code",
      "metadata": {
        "id": "Jc5ApSsED7Xo",
        "colab_type": "code",
        "colab": {}
      },
      "source": [
        "def gera_coluna_qual_e_a_questao_acertou_uma(caderno, index, tabela):\n",
        "  coluna = []\n",
        "  for linha in tabela['ACERTOS_TRANSFORMADOS_{}'.format(caderno)].to_list():\n",
        "    for i in range(len(linha)):\n",
        "      if (linha[i] == 1):\n",
        "        coluna.append(i+1)\n",
        "  \n",
        "  import pandas as pd\n",
        "  coluna = pd.Series(coluna)\n",
        "  coluna.name = 'qual_e_a_unica_questao_que_acertou_{}'.format(caderno)\n",
        "  coluna.index = index\n",
        "  return (coluna)"
      ],
      "execution_count": 0,
      "outputs": []
    },
    {
      "cell_type": "code",
      "metadata": {
        "id": "znss21JdGobw",
        "colab_type": "code",
        "colab": {}
      },
      "source": [
        "def gerar_tabela_quem_acertou_so_uma(caderno):\n",
        "  tabela = dados_com_acertos.query('ACERTOS_TOTAIS_{} == 1'.format(caderno))[['NU_INSCRICAO', 'NU_NOTA_{}'.format(caderno)]]\n",
        "  tabela = tabela.join(dados[['ACERTOS_TRANSFORMADOS_{}'.format(caderno)]])\n",
        "  pd.set_option('display.max_colwidth', 200)\n",
        "  #pd.options.display.width = 0\n",
        "\n",
        "  return tabela.join(gera_coluna_qual_e_a_questao_acertou_uma(caderno, tabela.index, tabela))"
      ],
      "execution_count": 0,
      "outputs": []
    },
    {
      "cell_type": "markdown",
      "metadata": {
        "id": "Dy1_mkcZVeg4",
        "colab_type": "text"
      },
      "source": [
        "### Pessoal que acertou apenas 1 questão"
      ]
    },
    {
      "cell_type": "code",
      "metadata": {
        "id": "kCiJo8QSVduS",
        "colab_type": "code",
        "colab": {}
      },
      "source": [
        "caderno = 'CN'\n",
        "gerar_tabela_quem_acertou_so_uma(caderno).sort_values(by='NU_NOTA_{}'.format(caderno), ascending=False)"
      ],
      "execution_count": 0,
      "outputs": []
    },
    {
      "cell_type": "code",
      "metadata": {
        "id": "sddjwWa8JJKZ",
        "colab_type": "code",
        "colab": {}
      },
      "source": [
        "caderno = 'CH'\n",
        "gerar_tabela_quem_acertou_so_uma(caderno).sort_values(by='NU_NOTA_{}'.format(caderno), ascending=False)"
      ],
      "execution_count": 0,
      "outputs": []
    },
    {
      "cell_type": "code",
      "metadata": {
        "id": "tX2N2hFBJMvL",
        "colab_type": "code",
        "colab": {}
      },
      "source": [
        "caderno = 'LC'\n",
        "gerar_tabela_quem_acertou_so_uma(caderno).sort_values(by='NU_NOTA_{}'.format(caderno), ascending=False)"
      ],
      "execution_count": 0,
      "outputs": []
    },
    {
      "cell_type": "code",
      "metadata": {
        "id": "ZSI43OC6W_3v",
        "colab_type": "code",
        "colab": {}
      },
      "source": [
        "caderno = 'MT'\n",
        "gerar_tabela_quem_acertou_so_uma(caderno).sort_values(by='NU_NOTA_{}'.format(caderno), ascending=False)"
      ],
      "execution_count": 0,
      "outputs": []
    },
    {
      "cell_type": "code",
      "metadata": {
        "id": "0Bh8Sl_ywVwt",
        "colab_type": "code",
        "colab": {}
      },
      "source": [
        "gerar_tabela_quem_acertou_so_uma(caderno).sort_values(by='NU_NOTA_{}'.format(caderno), ascending=False)['qual_e_a_unica_questao_que_acertou_MT'].unique()"
      ],
      "execution_count": 0,
      "outputs": []
    },
    {
      "cell_type": "markdown",
      "metadata": {
        "colab_type": "text",
        "id": "vY6cjmTvx3l6"
      },
      "source": [
        "### Pessoal que acertou 2 questões\n",
        "\n"
      ]
    },
    {
      "cell_type": "code",
      "metadata": {
        "id": "SpKCy72333Pu",
        "colab_type": "code",
        "colab": {}
      },
      "source": [
        "def verifica_se_acertou_a_questao_tal(caderno, index, tabela):\n",
        "  coluna = []\n",
        "  for linha in tabela['ACERTOS_TRANSFORMADOS_{}'.format(caderno)].to_list():\n",
        "    if (linha[16] == 1):\n",
        "        coluna.append(16+1)\n",
        "    else:\n",
        "        coluna.append(0)\n",
        "  \n",
        "  import pandas as pd\n",
        "  coluna = pd.Series(coluna)\n",
        "  coluna.name = 'se_acertou_a_questao_tal_{}'.format(caderno)\n",
        "  coluna.index = index\n",
        "  return (coluna)"
      ],
      "execution_count": 0,
      "outputs": []
    },
    {
      "cell_type": "code",
      "metadata": {
        "colab_type": "code",
        "id": "6J1Bad-GyRpZ",
        "colab": {}
      },
      "source": [
        "def gera_coluna_qual_e_a_segunda_questao_que_acertou(caderno, index, tabela):\n",
        "  coluna = []\n",
        "  for linha in tabela['ACERTOS_TRANSFORMADOS_{}'.format(caderno)].to_list():\n",
        "    for i in range(len(linha)):\n",
        "      if (linha[i] == 1):\n",
        "        coluna.append(i+1)\n",
        "  \n",
        "  import pandas as pd\n",
        "  coluna = pd.Series(coluna)\n",
        "  coluna.name = 'qual_e_a_segunda_questao_que_acertou_{}'.format(caderno)\n",
        "  coluna.index = index\n",
        "  return (coluna)"
      ],
      "execution_count": 0,
      "outputs": []
    },
    {
      "cell_type": "code",
      "metadata": {
        "colab_type": "code",
        "id": "3ouuZipIyRpu",
        "colab": {}
      },
      "source": [
        "def gerar_tabela_quem_acertou_duas(caderno):\n",
        "  tabela = dados_com_acertos.query('ACERTOS_TOTAIS_{} == 2'.format(caderno))[['NU_INSCRICAO', 'NU_NOTA_{}'.format(caderno)]]\n",
        "  tabela = tabela.join(dados[['ACERTOS_TRANSFORMADOS_{}'.format(caderno)]])\n",
        "  \n",
        "  tabela = tabela.join(verifica_se_acertou_a_questao_tal(caderno, tabela.index, tabela))\n",
        "\n",
        "  tabela = tabela.query('se_acertou_a_questao_tal_{} == 17'.format(caderno))\n",
        "  pd.set_option('display.max_colwidth', 200)\n",
        "  #pd.options.display.width = 0\n",
        "\n",
        "  return tabela\n",
        "\n",
        " # return tabela.join(gera_coluna_qual_e_a_questao_acertou_uma(caderno, tabela.index, tabela))"
      ],
      "execution_count": 0,
      "outputs": []
    },
    {
      "cell_type": "code",
      "metadata": {
        "colab_type": "code",
        "id": "-DVLfEf6x3mA",
        "colab": {}
      },
      "source": [
        "caderno = 'CN'\n",
        "gerar_tabela_quem_acertou_duas(caderno).sort_values(by='NU_NOTA_{}'.format(caderno), ascending=False)"
      ],
      "execution_count": 0,
      "outputs": []
    },
    {
      "cell_type": "code",
      "metadata": {
        "colab_type": "code",
        "id": "KWz58PiPx3md",
        "colab": {}
      },
      "source": [
        "caderno = 'CH'\n",
        "gerar_tabela_quem_acertou_so_uma(caderno).sort_values(by='NU_NOTA_{}'.format(caderno), ascending=False)"
      ],
      "execution_count": 0,
      "outputs": []
    },
    {
      "cell_type": "code",
      "metadata": {
        "colab_type": "code",
        "id": "awy4iskkx3mv",
        "colab": {}
      },
      "source": [
        "caderno = 'LC'\n",
        "gerar_tabela_quem_acertou_so_uma(caderno).sort_values(by='NU_NOTA_{}'.format(caderno), ascending=False)"
      ],
      "execution_count": 0,
      "outputs": []
    },
    {
      "cell_type": "code",
      "metadata": {
        "colab_type": "code",
        "id": "GatPT9Lhx3nA",
        "colab": {}
      },
      "source": [
        "caderno = 'MT'\n",
        "gerar_tabela_quem_acertou_so_uma(caderno).sort_values(by='NU_NOTA_{}'.format(caderno), ascending=False)"
      ],
      "execution_count": 0,
      "outputs": []
    },
    {
      "cell_type": "code",
      "metadata": {
        "colab_type": "code",
        "id": "JgW45AMgx3nL",
        "colab": {}
      },
      "source": [
        "gerar_tabela_quem_acertou_so_uma(caderno).sort_values(by='NU_NOTA_{}'.format(caderno), ascending=False)['qual_e_a_unica_questao_que_acertou_MT'].unique()"
      ],
      "execution_count": 0,
      "outputs": []
    },
    {
      "cell_type": "markdown",
      "metadata": {
        "id": "LJDEMoZ56h2N",
        "colab_type": "text"
      },
      "source": [
        "### Acertou 44"
      ]
    },
    {
      "cell_type": "code",
      "metadata": {
        "colab_type": "code",
        "id": "vaDzJmIu6tQa",
        "colab": {}
      },
      "source": [
        "def gerar_tabela_quem_acertou_duas(caderno):\n",
        "  tabela = dados_com_acertos.query('ACERTOS_TOTAIS_{} == 44'.format(caderno))[['NU_INSCRICAO', 'NU_NOTA_{}'.format(caderno)]]\n",
        "  tabela = tabela.join(dados[['ACERTOS_TRANSFORMADOS_{}'.format(caderno)]])\n",
        "  \n",
        "  tabela = tabela.join(verifica_se_acertou_a_questao_tal(caderno, tabela.index, tabela))\n",
        "\n",
        "  tabela = tabela.query('se_acertou_a_questao_tal_{} == 17'.format(caderno))\n",
        "  pd.set_option('display.max_colwidth', 200)\n",
        "  #pd.options.display.width = 0\n",
        "\n",
        "  return tabela\n",
        "\n",
        " # return tabela.join(gera_coluna_qual_e_a_questao_acertou_uma(caderno, tabela.index, tabela))"
      ],
      "execution_count": 0,
      "outputs": []
    },
    {
      "cell_type": "code",
      "metadata": {
        "colab_type": "code",
        "id": "Lpiw2S3p6tQq",
        "colab": {}
      },
      "source": [
        "caderno = 'CN'\n",
        "gerar_tabela_quem_acertou_duas(caderno).sort_values(by='NU_NOTA_{}'.format(caderno), ascending=False)"
      ],
      "execution_count": 0,
      "outputs": []
    },
    {
      "cell_type": "markdown",
      "metadata": {
        "id": "epuII4ioyLST",
        "colab_type": "text"
      },
      "source": [
        "# New Section"
      ]
    },
    {
      "cell_type": "code",
      "metadata": {
        "id": "bzoZcTIs0LXp",
        "colab_type": "code",
        "colab": {}
      },
      "source": [
        "def verifica_se_acertou_a_questao_tal(caderno, tabela, coluna):\n",
        "  for linha in tabela['ACERTOS_TRANSFORMADOS_{}'.format(caderno)].to_list():\n",
        "    for questao in range(len(linha)):\n",
        "      if (linha[questao] == 1):\n",
        "          coluna[questao] = True\n",
        "  \n",
        "  return (coluna)"
      ],
      "execution_count": 0,
      "outputs": []
    },
    {
      "cell_type": "code",
      "metadata": {
        "id": "7C6kQoneyN6N",
        "colab_type": "code",
        "outputId": "d225cc54-393d-489e-9913-89044be6e279",
        "colab": {
          "base_uri": "https://localhost:8080/",
          "height": 774
        }
      },
      "source": [
        "caderno = 'MT'\n",
        "num_de_questoes_no_caderno = 44\n",
        "\n",
        "\n",
        "for i in range(45):\n",
        "  coluna = []\n",
        "  coluna = coluna + [False] * 45\n",
        "  tabela = dados_com_acertos.query('ACERTOS_TOTAIS_{} == {}'.format(caderno, i))[['NU_INSCRICAO', 'NU_NOTA_{}'.format(caderno)]]\n",
        "  tabela = tabela.join(dados[['ACERTOS_TRANSFORMADOS_{}'.format(caderno)]])\n",
        "  coluna = verifica_se_acertou_a_questao_tal(caderno, tabela, coluna)\n",
        "  \n",
        "  contador = 0\n",
        "  for j in coluna:\n",
        "    if j == True:\n",
        "      contador += 1\n",
        "    if contador == num_de_questoes_no_caderno:\n",
        "      print(i)\n",
        "      break"
      ],
      "execution_count": 0,
      "outputs": [
        {
          "output_type": "stream",
          "text": [
            "3\n",
            "4\n",
            "5\n",
            "6\n",
            "7\n",
            "8\n",
            "9\n",
            "10\n",
            "11\n",
            "12\n",
            "13\n",
            "14\n",
            "15\n",
            "16\n",
            "17\n",
            "18\n",
            "19\n",
            "20\n",
            "21\n",
            "22\n",
            "23\n",
            "24\n",
            "25\n",
            "26\n",
            "27\n",
            "28\n",
            "29\n",
            "30\n",
            "31\n",
            "32\n",
            "33\n",
            "34\n",
            "35\n",
            "36\n",
            "37\n",
            "38\n",
            "39\n",
            "40\n",
            "41\n",
            "42\n",
            "43\n"
          ],
          "name": "stdout"
        }
      ]
    },
    {
      "cell_type": "code",
      "metadata": {
        "id": "eRBW8TLHi-Vq",
        "colab_type": "code",
        "colab": {}
      },
      "source": [
        "def questoes_que_acertou(caderno, quantidade_de_questoes, tabela, index):\n",
        "  lista_questoes_acertadas = []\n",
        "  #for qt_questoes in range(quantidade_de_questoes):\n",
        "  for linha in tabela['ACERTOS_TRANSFORMADOS_{}'.format(caderno)].to_list():\n",
        "    questoes_acertadas = []\n",
        "    for quest in range(len(linha)):\n",
        "      if linha[quest] == 1:\n",
        "        questoes_acertadas.append(quest + 1)\n",
        "    lista_questoes_acertadas.append(questoes_acertadas)\n",
        "  \n",
        "  import pandas as pd\n",
        "  lista_questoes_acertadas = pd.Series(lista_questoes_acertadas)\n",
        "  lista_questoes_acertadas.name = 'quais_acertou_{}'.format(caderno)\n",
        "  lista_questoes_acertadas.index = index\n",
        "\n",
        "  return (lista_questoes_acertadas)"
      ],
      "execution_count": 0,
      "outputs": []
    },
    {
      "cell_type": "code",
      "metadata": {
        "id": "QFKASz9SlT_Z",
        "colab_type": "code",
        "outputId": "013adf6b-79b9-44f4-e899-7c232bd1e2b5",
        "colab": {
          "base_uri": "https://localhost:8080/",
          "height": 1000
        }
      },
      "source": [
        "caderno ='MT'\n",
        "quantidade_de_acertos = 1\n",
        "\n",
        "\n",
        "tabela = dados_com_acertos.query('ACERTOS_TOTAIS_{} == {}'.format(caderno, quantidade_de_acertos))[['NU_INSCRICAO', 'NU_NOTA_{}'.format(caderno)]]\n",
        "tabela = tabela.join(dados[['ACERTOS_TRANSFORMADOS_{}'.format(caderno)]])\n",
        "\n",
        "tabela = tabela.join(questoes_que_acertou(caderno, quantidade_de_acertos, tabela, tabela.index))\n",
        "\n",
        "import pandas as pd\n",
        "pd.set_option('display.max_rows', None)\n",
        "\n",
        "dificuldade = tabela.sort_values('NU_NOTA_{}'.format(caderno), ascending=False)['quais_acertou_MT']\n",
        "\n",
        "tabela.sort_values('NU_NOTA_{}'.format(caderno), ascending=False)\n"
      ],
      "execution_count": 0,
      "outputs": [
        {
          "output_type": "execute_result",
          "data": {
            "text/html": [
              "<div>\n",
              "<style scoped>\n",
              "    .dataframe tbody tr th:only-of-type {\n",
              "        vertical-align: middle;\n",
              "    }\n",
              "\n",
              "    .dataframe tbody tr th {\n",
              "        vertical-align: top;\n",
              "    }\n",
              "\n",
              "    .dataframe thead th {\n",
              "        text-align: right;\n",
              "    }\n",
              "</style>\n",
              "<table border=\"1\" class=\"dataframe\">\n",
              "  <thead>\n",
              "    <tr style=\"text-align: right;\">\n",
              "      <th></th>\n",
              "      <th>NU_INSCRICAO</th>\n",
              "      <th>NU_NOTA_MT</th>\n",
              "      <th>ACERTOS_TRANSFORMADOS_MT</th>\n",
              "      <th>quais_acertou_MT</th>\n",
              "    </tr>\n",
              "  </thead>\n",
              "  <tbody>\n",
              "    <tr>\n",
              "      <th>66600</th>\n",
              "      <td>180007765836</td>\n",
              "      <td>407.0</td>\n",
              "      <td>[0, 0, 0, 0, 0, 0, 0, 0, 0, 0, 1, 0, 0, 0, 0, 0, 0, 0, 0, 0, 0, 0, 0, 0, 0, 0, 0, 0, 0, 0, 0, 0, 0, 0, 0, 0, 0, 0, 0, 0, 0, 0, 0, 0, 0]</td>\n",
              "      <td>[11]</td>\n",
              "    </tr>\n",
              "    <tr>\n",
              "      <th>23739</th>\n",
              "      <td>180011593833</td>\n",
              "      <td>407.0</td>\n",
              "      <td>[0, 0, 0, 0, 0, 0, 0, 0, 0, 0, 1, 0, 0, 0, 0, 0, 0, 0, 0, 0, 0, 0, 0, 0, 0, 0, 0, 0, 0, 0, 0, 0, 0, 0, 0, 0, 0, 0, 0, 0, 0, 0, 0, 0, 0]</td>\n",
              "      <td>[11]</td>\n",
              "    </tr>\n",
              "    <tr>\n",
              "      <th>81131</th>\n",
              "      <td>180010705384</td>\n",
              "      <td>407.0</td>\n",
              "      <td>[0, 0, 0, 0, 0, 0, 0, 0, 0, 0, 1, 0, 0, 0, 0, 0, 0, 0, 0, 0, 0, 0, 0, 0, 0, 0, 0, 0, 0, 0, 0, 0, 0, 0, 0, 0, 0, 0, 0, 0, 0, 0, 0, 0, 0]</td>\n",
              "      <td>[11]</td>\n",
              "    </tr>\n",
              "    <tr>\n",
              "      <th>109748</th>\n",
              "      <td>180012106509</td>\n",
              "      <td>401.7</td>\n",
              "      <td>[0, 0, 0, 0, 0, 0, 0, 0, 0, 0, 0, 0, 0, 0, 0, 0, 0, 0, 0, 0, 1, 0, 0, 0, 0, 0, 0, 0, 0, 0, 0, 0, 0, 0, 0, 0, 0, 0, 0, 0, 0, 0, 0, 0, 0]</td>\n",
              "      <td>[21]</td>\n",
              "    </tr>\n",
              "    <tr>\n",
              "      <th>118113</th>\n",
              "      <td>180013368496</td>\n",
              "      <td>386.4</td>\n",
              "      <td>[0, 0, 0, 0, 0, 0, 0, 0, 0, 0, 0, 0, 0, 0, 0, 0, 0, 0, 0, 0, 0, 0, 0, 0, 1, 0, 0, 0, 0, 0, 0, 0, 0, 0, 0, 0, 0, 0, 0, 0, 0, 0, 0, 0, 0]</td>\n",
              "      <td>[25]</td>\n",
              "    </tr>\n",
              "    <tr>\n",
              "      <th>87594</th>\n",
              "      <td>180011922251</td>\n",
              "      <td>386.2</td>\n",
              "      <td>[0, 0, 0, 0, 0, 0, 0, 0, 0, 0, 0, 0, 0, 0, 0, 0, 0, 0, 0, 0, 0, 0, 0, 0, 0, 0, 0, 0, 0, 0, 0, 0, 0, 0, 1, 0, 0, 0, 0, 0, 0, 0, 0, 0, 0]</td>\n",
              "      <td>[35]</td>\n",
              "    </tr>\n",
              "    <tr>\n",
              "      <th>29215</th>\n",
              "      <td>180008226509</td>\n",
              "      <td>378.9</td>\n",
              "      <td>[0, 0, 0, 0, 0, 0, 0, 0, 0, 0, 0, 0, 0, 0, 0, 0, 0, 0, 0, 0, 0, 0, 1, 0, 0, 0, 0, 0, 0, 0, 0, 0, 0, 0, 0, 0, 0, 0, 0, 0, 0, 0, 0, 0, 0]</td>\n",
              "      <td>[23]</td>\n",
              "    </tr>\n",
              "    <tr>\n",
              "      <th>77140</th>\n",
              "      <td>180011361668</td>\n",
              "      <td>378.9</td>\n",
              "      <td>[0, 0, 0, 0, 0, 0, 0, 0, 0, 0, 0, 0, 0, 0, 0, 0, 0, 0, 0, 0, 0, 0, 1, 0, 0, 0, 0, 0, 0, 0, 0, 0, 0, 0, 0, 0, 0, 0, 0, 0, 0, 0, 0, 0, 0]</td>\n",
              "      <td>[23]</td>\n",
              "    </tr>\n",
              "    <tr>\n",
              "      <th>39476</th>\n",
              "      <td>180009129992</td>\n",
              "      <td>374.8</td>\n",
              "      <td>[0, 0, 0, 0, 0, 0, 0, 0, 0, 0, 0, 0, 0, 0, 0, 0, 0, 0, 0, 0, 0, 0, 0, 0, 0, 0, 0, 0, 0, 0, 0, 0, 0, 0, 0, 0, 0, 0, 0, 1, 0, 0, 0, 0, 0]</td>\n",
              "      <td>[40]</td>\n",
              "    </tr>\n",
              "    <tr>\n",
              "      <th>80782</th>\n",
              "      <td>180011191391</td>\n",
              "      <td>373.7</td>\n",
              "      <td>[0, 0, 0, 0, 0, 0, 0, 0, 0, 0, 0, 0, 0, 1, 0, 0, 0, 0, 0, 0, 0, 0, 0, 0, 0, 0, 0, 0, 0, 0, 0, 0, 0, 0, 0, 0, 0, 0, 0, 0, 0, 0, 0, 0, 0]</td>\n",
              "      <td>[14]</td>\n",
              "    </tr>\n",
              "    <tr>\n",
              "      <th>40214</th>\n",
              "      <td>180009484727</td>\n",
              "      <td>373.7</td>\n",
              "      <td>[0, 0, 0, 0, 0, 0, 0, 0, 0, 0, 0, 0, 0, 1, 0, 0, 0, 0, 0, 0, 0, 0, 0, 0, 0, 0, 0, 0, 0, 0, 0, 0, 0, 0, 0, 0, 0, 0, 0, 0, 0, 0, 0, 0, 0]</td>\n",
              "      <td>[14]</td>\n",
              "    </tr>\n",
              "    <tr>\n",
              "      <th>15618</th>\n",
              "      <td>180013669447</td>\n",
              "      <td>373.4</td>\n",
              "      <td>[0, 0, 0, 0, 0, 0, 0, 0, 0, 0, 0, 0, 0, 0, 0, 0, 0, 0, 0, 0, 0, 0, 0, 0, 0, 0, 0, 0, 0, 0, 0, 0, 0, 0, 0, 1, 0, 0, 0, 0, 0, 0, 0, 0, 0]</td>\n",
              "      <td>[36]</td>\n",
              "    </tr>\n",
              "    <tr>\n",
              "      <th>91404</th>\n",
              "      <td>180011616453</td>\n",
              "      <td>373.1</td>\n",
              "      <td>[0, 0, 0, 0, 0, 0, 0, 1, 0, 0, 0, 0, 0, 0, 0, 0, 0, 0, 0, 0, 0, 0, 0, 0, 0, 0, 0, 0, 0, 0, 0, 0, 0, 0, 0, 0, 0, 0, 0, 0, 0, 0, 0, 0, 0]</td>\n",
              "      <td>[8]</td>\n",
              "    </tr>\n",
              "    <tr>\n",
              "      <th>74442</th>\n",
              "      <td>180010008618</td>\n",
              "      <td>373.1</td>\n",
              "      <td>[0, 0, 0, 0, 0, 0, 0, 1, 0, 0, 0, 0, 0, 0, 0, 0, 0, 0, 0, 0, 0, 0, 0, 0, 0, 0, 0, 0, 0, 0, 0, 0, 0, 0, 0, 0, 0, 0, 0, 0, 0, 0, 0, 0, 0]</td>\n",
              "      <td>[8]</td>\n",
              "    </tr>\n",
              "    <tr>\n",
              "      <th>99350</th>\n",
              "      <td>180007771164</td>\n",
              "      <td>372.0</td>\n",
              "      <td>[0, 0, 0, 0, 0, 0, 0, 0, 0, 0, 0, 0, 0, 0, 0, 0, 0, 0, 0, 0, 0, 0, 0, 0, 0, 0, 0, 0, 1, 0, 0, 0, 0, 0, 0, 0, 0, 0, 0, 0, 0, 0, 0, 0, 0]</td>\n",
              "      <td>[29]</td>\n",
              "    </tr>\n",
              "    <tr>\n",
              "      <th>97425</th>\n",
              "      <td>180012374550</td>\n",
              "      <td>371.5</td>\n",
              "      <td>[0, 0, 0, 0, 0, 0, 1, 0, 0, 0, 0, 0, 0, 0, 0, 0, 0, 0, 0, 0, 0, 0, 0, 0, 0, 0, 0, 0, 0, 0, 0, 0, 0, 0, 0, 0, 0, 0, 0, 0, 0, 0, 0, 0, 0]</td>\n",
              "      <td>[7]</td>\n",
              "    </tr>\n",
              "    <tr>\n",
              "      <th>7791</th>\n",
              "      <td>180013707527</td>\n",
              "      <td>371.1</td>\n",
              "      <td>[0, 0, 0, 0, 0, 0, 0, 0, 0, 0, 0, 0, 0, 0, 0, 0, 0, 0, 0, 0, 0, 0, 0, 0, 0, 0, 0, 0, 0, 0, 0, 1, 0, 0, 0, 0, 0, 0, 0, 0, 0, 0, 0, 0, 0]</td>\n",
              "      <td>[32]</td>\n",
              "    </tr>\n",
              "    <tr>\n",
              "      <th>105138</th>\n",
              "      <td>180011693990</td>\n",
              "      <td>371.1</td>\n",
              "      <td>[0, 0, 0, 0, 0, 0, 0, 0, 0, 0, 0, 0, 0, 0, 0, 0, 0, 0, 0, 0, 0, 0, 0, 0, 0, 0, 0, 0, 0, 0, 0, 1, 0, 0, 0, 0, 0, 0, 0, 0, 0, 0, 0, 0, 0]</td>\n",
              "      <td>[32]</td>\n",
              "    </tr>\n",
              "    <tr>\n",
              "      <th>48513</th>\n",
              "      <td>180012910874</td>\n",
              "      <td>370.8</td>\n",
              "      <td>[0, 0, 0, 0, 0, 0, 0, 0, 0, 0, 0, 0, 0, 0, 0, 0, 0, 0, 0, 0, 0, 1, 0, 0, 0, 0, 0, 0, 0, 0, 0, 0, 0, 0, 0, 0, 0, 0, 0, 0, 0, 0, 0, 0, 0]</td>\n",
              "      <td>[22]</td>\n",
              "    </tr>\n",
              "    <tr>\n",
              "      <th>83055</th>\n",
              "      <td>180012501387</td>\n",
              "      <td>370.7</td>\n",
              "      <td>[1, 0, 0, 0, 0, 0, 0, 0, 0, 0, 0, 0, 0, 0, 0, 0, 0, 0, 0, 0, 0, 0, 0, 0, 0, 0, 0, 0, 0, 0, 0, 0, 0, 0, 0, 0, 0, 0, 0, 0, 0, 0, 0, 0, 0]</td>\n",
              "      <td>[1]</td>\n",
              "    </tr>\n",
              "    <tr>\n",
              "      <th>28010</th>\n",
              "      <td>180009123349</td>\n",
              "      <td>370.3</td>\n",
              "      <td>[0, 0, 0, 0, 0, 0, 0, 0, 0, 0, 0, 0, 0, 0, 0, 0, 0, 0, 0, 0, 0, 0, 0, 0, 0, 0, 0, 1, 0, 0, 0, 0, 0, 0, 0, 0, 0, 0, 0, 0, 0, 0, 0, 0, 0]</td>\n",
              "      <td>[28]</td>\n",
              "    </tr>\n",
              "    <tr>\n",
              "      <th>127274</th>\n",
              "      <td>180011813112</td>\n",
              "      <td>370.0</td>\n",
              "      <td>[0, 0, 0, 0, 0, 0, 0, 0, 0, 0, 0, 0, 0, 0, 0, 0, 0, 0, 0, 0, 0, 0, 0, 0, 0, 0, 0, 0, 0, 0, 1, 0, 0, 0, 0, 0, 0, 0, 0, 0, 0, 0, 0, 0, 0]</td>\n",
              "      <td>[31]</td>\n",
              "    </tr>\n",
              "    <tr>\n",
              "      <th>125958</th>\n",
              "      <td>180010434465</td>\n",
              "      <td>369.4</td>\n",
              "      <td>[0, 0, 0, 0, 0, 0, 0, 0, 0, 0, 0, 0, 0, 0, 0, 0, 0, 0, 0, 0, 0, 0, 0, 0, 0, 0, 0, 0, 0, 0, 0, 0, 0, 0, 0, 0, 0, 0, 0, 0, 0, 0, 1, 0, 0]</td>\n",
              "      <td>[43]</td>\n",
              "    </tr>\n",
              "    <tr>\n",
              "      <th>126725</th>\n",
              "      <td>180007213691</td>\n",
              "      <td>369.4</td>\n",
              "      <td>[0, 0, 0, 0, 0, 0, 0, 0, 0, 0, 0, 0, 0, 0, 0, 0, 0, 0, 0, 0, 0, 0, 0, 0, 0, 0, 0, 0, 0, 0, 0, 0, 0, 0, 0, 0, 0, 0, 0, 0, 0, 1, 0, 0, 0]</td>\n",
              "      <td>[42]</td>\n",
              "    </tr>\n",
              "    <tr>\n",
              "      <th>5790</th>\n",
              "      <td>180010056758</td>\n",
              "      <td>369.4</td>\n",
              "      <td>[0, 0, 0, 0, 0, 0, 0, 0, 0, 0, 0, 0, 0, 0, 0, 0, 0, 0, 0, 0, 0, 0, 0, 0, 0, 0, 0, 0, 0, 0, 0, 0, 0, 0, 0, 0, 1, 0, 0, 0, 0, 0, 0, 0, 0]</td>\n",
              "      <td>[37]</td>\n",
              "    </tr>\n",
              "  </tbody>\n",
              "</table>\n",
              "</div>"
            ],
            "text/plain": [
              "        NU_INSCRICAO  ...  quais_acertou_MT\n",
              "66600   180007765836  ...              [11]\n",
              "23739   180011593833  ...              [11]\n",
              "81131   180010705384  ...              [11]\n",
              "109748  180012106509  ...              [21]\n",
              "118113  180013368496  ...              [25]\n",
              "87594   180011922251  ...              [35]\n",
              "29215   180008226509  ...              [23]\n",
              "77140   180011361668  ...              [23]\n",
              "39476   180009129992  ...              [40]\n",
              "80782   180011191391  ...              [14]\n",
              "40214   180009484727  ...              [14]\n",
              "15618   180013669447  ...              [36]\n",
              "91404   180011616453  ...               [8]\n",
              "74442   180010008618  ...               [8]\n",
              "99350   180007771164  ...              [29]\n",
              "97425   180012374550  ...               [7]\n",
              "7791    180013707527  ...              [32]\n",
              "105138  180011693990  ...              [32]\n",
              "48513   180012910874  ...              [22]\n",
              "83055   180012501387  ...               [1]\n",
              "28010   180009123349  ...              [28]\n",
              "127274  180011813112  ...              [31]\n",
              "125958  180010434465  ...              [43]\n",
              "126725  180007213691  ...              [42]\n",
              "5790    180010056758  ...              [37]\n",
              "\n",
              "[25 rows x 4 columns]"
            ]
          },
          "metadata": {
            "tags": []
          },
          "execution_count": 341
        }
      ]
    },
    {
      "cell_type": "code",
      "metadata": {
        "id": "Lpd5ght86pnb",
        "colab_type": "code",
        "outputId": "1dc15b29-0c54-4f45-8abc-6b40dd7cefa7",
        "colab": {
          "base_uri": "https://localhost:8080/",
          "height": 247
        }
      },
      "source": [
        "dif = []\n",
        "for linha in dificuldade:\n",
        "  for quest in range(len(linha)):\n",
        "    if linha[quest] not in dif:\n",
        "      dif.append(linha[quest])\n",
        "\n",
        "dificuldade = dif\n",
        "dif = 0\n",
        "dificuldade"
      ],
      "execution_count": 0,
      "outputs": [
        {
          "output_type": "error",
          "ename": "TypeError",
          "evalue": "ignored",
          "traceback": [
            "\u001b[0;31m---------------------------------------------------------------------------\u001b[0m",
            "\u001b[0;31mTypeError\u001b[0m                                 Traceback (most recent call last)",
            "\u001b[0;32m<ipython-input-348-dd04ae6892a2>\u001b[0m in \u001b[0;36m<module>\u001b[0;34m()\u001b[0m\n\u001b[1;32m      1\u001b[0m \u001b[0mdif\u001b[0m \u001b[0;34m=\u001b[0m \u001b[0;34m[\u001b[0m\u001b[0;34m]\u001b[0m\u001b[0;34m\u001b[0m\u001b[0;34m\u001b[0m\u001b[0m\n\u001b[1;32m      2\u001b[0m \u001b[0;32mfor\u001b[0m \u001b[0mlinha\u001b[0m \u001b[0;32min\u001b[0m \u001b[0mdificuldade\u001b[0m\u001b[0;34m:\u001b[0m\u001b[0;34m\u001b[0m\u001b[0;34m\u001b[0m\u001b[0m\n\u001b[0;32m----> 3\u001b[0;31m   \u001b[0;32mfor\u001b[0m \u001b[0mquest\u001b[0m \u001b[0;32min\u001b[0m \u001b[0mrange\u001b[0m\u001b[0;34m(\u001b[0m\u001b[0mlen\u001b[0m\u001b[0;34m(\u001b[0m\u001b[0mlinha\u001b[0m\u001b[0;34m)\u001b[0m\u001b[0;34m)\u001b[0m\u001b[0;34m:\u001b[0m\u001b[0;34m\u001b[0m\u001b[0;34m\u001b[0m\u001b[0m\n\u001b[0m\u001b[1;32m      4\u001b[0m     \u001b[0;32mif\u001b[0m \u001b[0mlinha\u001b[0m\u001b[0;34m[\u001b[0m\u001b[0mquest\u001b[0m\u001b[0;34m]\u001b[0m \u001b[0;32mnot\u001b[0m \u001b[0;32min\u001b[0m \u001b[0mdif\u001b[0m\u001b[0;34m:\u001b[0m\u001b[0;34m\u001b[0m\u001b[0;34m\u001b[0m\u001b[0m\n\u001b[1;32m      5\u001b[0m       \u001b[0mdif\u001b[0m\u001b[0;34m.\u001b[0m\u001b[0mappend\u001b[0m\u001b[0;34m(\u001b[0m\u001b[0mlinha\u001b[0m\u001b[0;34m[\u001b[0m\u001b[0mquest\u001b[0m\u001b[0;34m]\u001b[0m\u001b[0;34m)\u001b[0m\u001b[0;34m\u001b[0m\u001b[0;34m\u001b[0m\u001b[0m\n",
            "\u001b[0;31mTypeError\u001b[0m: object of type 'int' has no len()"
          ]
        }
      ]
    },
    {
      "cell_type": "code",
      "metadata": {
        "id": "T45P0A09cDz6",
        "colab_type": "code",
        "outputId": "2d6f4f87-8532-43c2-8851-aa3050e3ec6b",
        "colab": {
          "base_uri": "https://localhost:8080/",
          "height": 35
        }
      },
      "source": [
        "dificuldade"
      ],
      "execution_count": 0,
      "outputs": [
        {
          "output_type": "execute_result",
          "data": {
            "text/plain": [
              "[11, 21, 25, 35, 23, 40, 14, 36, 8, 29, 7, 32, 22, 1, 28, 31, 43, 42, 37]"
            ]
          },
          "metadata": {
            "tags": []
          },
          "execution_count": 349
        }
      ]
    },
    {
      "cell_type": "code",
      "metadata": {
        "id": "1CD0PDOfQ_JF",
        "colab_type": "code",
        "outputId": "dc626ac7-b405-446b-f056-f657e4bc1c81",
        "colab": {
          "base_uri": "https://localhost:8080/",
          "height": 35
        }
      },
      "source": [
        "len(dificuldade)"
      ],
      "execution_count": 0,
      "outputs": [
        {
          "output_type": "execute_result",
          "data": {
            "text/plain": [
              "19"
            ]
          },
          "metadata": {
            "tags": []
          },
          "execution_count": 350
        }
      ]
    },
    {
      "cell_type": "code",
      "metadata": {
        "id": "JOrqijSZS7oU",
        "colab_type": "code",
        "outputId": "6d14ed85-b7b8-4cbb-af20-b8b27e12cb80",
        "colab": {
          "base_uri": "https://localhost:8080/",
          "height": 363
        }
      },
      "source": [
        "caderno ='MT'\n",
        "quantidade_de_acertos = 3\n",
        "\n",
        "\n",
        "tabela = dados_com_acertos.query('ACERTOS_TOTAIS_{} == {}'.format(caderno, quantidade_de_acertos))[['NU_INSCRICAO', 'NU_NOTA_{}'.format(caderno)]]\n",
        "tabela = tabela.join(dados[['ACERTOS_TRANSFORMADOS_{}'.format(caderno)]])\n",
        "\n",
        "tabela = tabela.join(questoes_que_acertou(caderno, quantidade_de_acertos, tabela, tabela.index))\n",
        "\n",
        "import pandas as pd\n",
        "pd.set_option('display.max_rows', 10)\n",
        "\n",
        "tabela.sort_values('NU_NOTA_{}'.format(caderno), ascending=True).head(10)"
      ],
      "execution_count": 0,
      "outputs": [
        {
          "output_type": "execute_result",
          "data": {
            "text/html": [
              "<div>\n",
              "<style scoped>\n",
              "    .dataframe tbody tr th:only-of-type {\n",
              "        vertical-align: middle;\n",
              "    }\n",
              "\n",
              "    .dataframe tbody tr th {\n",
              "        vertical-align: top;\n",
              "    }\n",
              "\n",
              "    .dataframe thead th {\n",
              "        text-align: right;\n",
              "    }\n",
              "</style>\n",
              "<table border=\"1\" class=\"dataframe\">\n",
              "  <thead>\n",
              "    <tr style=\"text-align: right;\">\n",
              "      <th></th>\n",
              "      <th>NU_INSCRICAO</th>\n",
              "      <th>NU_NOTA_MT</th>\n",
              "      <th>ACERTOS_TRANSFORMADOS_MT</th>\n",
              "      <th>quais_acertou_MT</th>\n",
              "    </tr>\n",
              "  </thead>\n",
              "  <tbody>\n",
              "    <tr>\n",
              "      <th>85081</th>\n",
              "      <td>180008212260</td>\n",
              "      <td>370.1</td>\n",
              "      <td>[0, 0, 0, 0, 1, 0, 0, 0, 0, 0, 0, 0, 0, 0, 0, ...</td>\n",
              "      <td>[5, 24, 26]</td>\n",
              "    </tr>\n",
              "    <tr>\n",
              "      <th>42260</th>\n",
              "      <td>180010964907</td>\n",
              "      <td>370.2</td>\n",
              "      <td>[0, 0, 0, 0, 0, 0, 0, 0, 1, 0, 0, 0, 0, 0, 0, ...</td>\n",
              "      <td>[9, 42, 43]</td>\n",
              "    </tr>\n",
              "    <tr>\n",
              "      <th>92097</th>\n",
              "      <td>180011116047</td>\n",
              "      <td>370.5</td>\n",
              "      <td>[0, 0, 0, 0, 0, 0, 0, 0, 0, 0, 0, 0, 0, 0, 0, ...</td>\n",
              "      <td>[16, 27, 37]</td>\n",
              "    </tr>\n",
              "    <tr>\n",
              "      <th>91382</th>\n",
              "      <td>180013411959</td>\n",
              "      <td>370.5</td>\n",
              "      <td>[0, 0, 0, 0, 0, 0, 0, 0, 1, 0, 0, 0, 0, 0, 0, ...</td>\n",
              "      <td>[9, 16, 42]</td>\n",
              "    </tr>\n",
              "    <tr>\n",
              "      <th>61467</th>\n",
              "      <td>180010144515</td>\n",
              "      <td>370.6</td>\n",
              "      <td>[0, 0, 0, 0, 0, 0, 0, 0, 1, 0, 0, 0, 0, 0, 0, ...</td>\n",
              "      <td>[9, 33, 42]</td>\n",
              "    </tr>\n",
              "    <tr>\n",
              "      <th>48669</th>\n",
              "      <td>180008372088</td>\n",
              "      <td>370.9</td>\n",
              "      <td>[0, 0, 0, 0, 1, 0, 0, 0, 0, 0, 0, 0, 0, 0, 0, ...</td>\n",
              "      <td>[5, 16, 39]</td>\n",
              "    </tr>\n",
              "    <tr>\n",
              "      <th>89081</th>\n",
              "      <td>180012694664</td>\n",
              "      <td>370.9</td>\n",
              "      <td>[0, 0, 0, 0, 0, 0, 0, 0, 1, 0, 0, 0, 0, 0, 0, ...</td>\n",
              "      <td>[9, 31, 37]</td>\n",
              "    </tr>\n",
              "    <tr>\n",
              "      <th>33755</th>\n",
              "      <td>180007845083</td>\n",
              "      <td>371.0</td>\n",
              "      <td>[0, 0, 0, 0, 0, 0, 0, 0, 0, 0, 0, 0, 1, 0, 0, ...</td>\n",
              "      <td>[13, 37, 42]</td>\n",
              "    </tr>\n",
              "    <tr>\n",
              "      <th>120394</th>\n",
              "      <td>180010311183</td>\n",
              "      <td>371.0</td>\n",
              "      <td>[0, 0, 0, 0, 0, 0, 0, 0, 0, 1, 0, 0, 0, 0, 0, ...</td>\n",
              "      <td>[10, 17, 43]</td>\n",
              "    </tr>\n",
              "    <tr>\n",
              "      <th>34848</th>\n",
              "      <td>180010001979</td>\n",
              "      <td>371.1</td>\n",
              "      <td>[0, 0, 0, 0, 0, 0, 0, 0, 1, 0, 0, 0, 0, 0, 0, ...</td>\n",
              "      <td>[9, 28, 43]</td>\n",
              "    </tr>\n",
              "  </tbody>\n",
              "</table>\n",
              "</div>"
            ],
            "text/plain": [
              "        NU_INSCRICAO  ...  quais_acertou_MT\n",
              "85081   180008212260  ...       [5, 24, 26]\n",
              "42260   180010964907  ...       [9, 42, 43]\n",
              "92097   180011116047  ...      [16, 27, 37]\n",
              "91382   180013411959  ...       [9, 16, 42]\n",
              "61467   180010144515  ...       [9, 33, 42]\n",
              "48669   180008372088  ...       [5, 16, 39]\n",
              "89081   180012694664  ...       [9, 31, 37]\n",
              "33755   180007845083  ...      [13, 37, 42]\n",
              "120394  180010311183  ...      [10, 17, 43]\n",
              "34848   180010001979  ...       [9, 28, 43]\n",
              "\n",
              "[10 rows x 4 columns]"
            ]
          },
          "metadata": {
            "tags": []
          },
          "execution_count": 13
        }
      ]
    },
    {
      "cell_type": "code",
      "metadata": {
        "id": "Em5YjreURT2w",
        "colab_type": "code",
        "outputId": "e6191f8a-6d11-47d2-daab-ff764aa10ae0",
        "colab": {
          "base_uri": "https://localhost:8080/",
          "height": 1000
        }
      },
      "source": [
        "caderno ='MT'\n",
        "quantidade_de_acertos = 2\n",
        "\n",
        "\n",
        "tabela = dados_com_acertos.query('ACERTOS_TOTAIS_{} == {}'.format(caderno, quantidade_de_acertos))[['NU_INSCRICAO', 'NU_NOTA_{}'.format(caderno)]]\n",
        "tabela = tabela.join(dados[['ACERTOS_TRANSFORMADOS_{}'.format(caderno)]])\n",
        "\n",
        "tabela = tabela.join(questoes_que_acertou(caderno, quantidade_de_acertos, tabela, tabela.index))\n",
        "\n",
        "import pandas as pd\n",
        "pd.set_option('display.max_rows', 10)\n",
        "\n",
        "\n",
        "a = tabela.sort_values('NU_NOTA_{}'.format(caderno), ascending=False)['quais_acertou_MT']\n",
        "\n",
        "for i in range(46):\n",
        "  for j in a:\n",
        "    # print(j)  \n",
        "    if i in j and i in dificuldade:\n",
        "      print('-->' + str(i))"
      ],
      "execution_count": 0,
      "outputs": [
        {
          "output_type": "stream",
          "text": [
            "-->1\n",
            "-->1\n",
            "-->1\n",
            "-->7\n",
            "-->7\n",
            "-->8\n",
            "-->8\n",
            "-->8\n",
            "-->8\n",
            "-->8\n",
            "-->11\n",
            "-->11\n",
            "-->11\n",
            "-->11\n",
            "-->11\n",
            "-->11\n",
            "-->11\n",
            "-->11\n",
            "-->11\n",
            "-->11\n",
            "-->11\n",
            "-->11\n",
            "-->11\n",
            "-->11\n",
            "-->11\n",
            "-->11\n",
            "-->11\n",
            "-->11\n",
            "-->11\n",
            "-->11\n",
            "-->11\n",
            "-->11\n",
            "-->11\n",
            "-->11\n",
            "-->14\n",
            "-->14\n",
            "-->14\n",
            "-->14\n",
            "-->14\n",
            "-->14\n",
            "-->21\n",
            "-->21\n",
            "-->21\n",
            "-->21\n",
            "-->21\n",
            "-->21\n",
            "-->21\n",
            "-->21\n",
            "-->22\n",
            "-->22\n",
            "-->22\n",
            "-->22\n",
            "-->22\n",
            "-->23\n",
            "-->23\n",
            "-->23\n",
            "-->23\n",
            "-->25\n",
            "-->25\n",
            "-->25\n",
            "-->25\n",
            "-->25\n",
            "-->25\n",
            "-->25\n",
            "-->25\n",
            "-->28\n",
            "-->28\n",
            "-->28\n",
            "-->28\n",
            "-->29\n",
            "-->29\n",
            "-->29\n",
            "-->29\n",
            "-->29\n",
            "-->29\n",
            "-->29\n",
            "-->29\n",
            "-->29\n",
            "-->29\n",
            "-->31\n",
            "-->31\n",
            "-->32\n",
            "-->32\n",
            "-->32\n",
            "-->32\n",
            "-->32\n",
            "-->32\n",
            "-->32\n",
            "-->35\n",
            "-->36\n",
            "-->36\n",
            "-->36\n",
            "-->36\n",
            "-->36\n",
            "-->36\n",
            "-->37\n",
            "-->37\n",
            "-->37\n",
            "-->37\n",
            "-->37\n",
            "-->40\n",
            "-->40\n",
            "-->40\n",
            "-->40\n",
            "-->40\n",
            "-->40\n",
            "-->40\n",
            "-->40\n",
            "-->40\n",
            "-->40\n",
            "-->42\n",
            "-->42\n",
            "-->42\n",
            "-->42\n",
            "-->42\n",
            "-->42\n",
            "-->42\n",
            "-->43\n",
            "-->43\n",
            "-->43\n",
            "-->43\n",
            "-->43\n"
          ],
          "name": "stdout"
        }
      ]
    },
    {
      "cell_type": "code",
      "metadata": {
        "id": "9zI6p6j-V3Au",
        "colab_type": "code",
        "outputId": "cf98e1cd-3541-4b5a-a3c4-ab3d391682de",
        "colab": {
          "base_uri": "https://localhost:8080/",
          "height": 479
        }
      },
      "source": [
        "dificuldade = dificuldade.to_list()\n",
        "dificuldade\n"
      ],
      "execution_count": 0,
      "outputs": [
        {
          "output_type": "execute_result",
          "data": {
            "text/plain": [
              "[[11],\n",
              " [11],\n",
              " [11],\n",
              " [21],\n",
              " [25],\n",
              " [35],\n",
              " [23],\n",
              " [23],\n",
              " [40],\n",
              " [14],\n",
              " [14],\n",
              " [36],\n",
              " [8],\n",
              " [8],\n",
              " [29],\n",
              " [7],\n",
              " [32],\n",
              " [32],\n",
              " [22],\n",
              " [1],\n",
              " [28],\n",
              " [31],\n",
              " [43],\n",
              " [42],\n",
              " [37]]"
            ]
          },
          "metadata": {
            "tags": []
          },
          "execution_count": 330
        }
      ]
    },
    {
      "cell_type": "code",
      "metadata": {
        "id": "D3P_vSn6V27u",
        "colab_type": "code",
        "colab": {}
      },
      "source": [
        ""
      ],
      "execution_count": 0,
      "outputs": []
    },
    {
      "cell_type": "code",
      "metadata": {
        "id": "QO6vhf-D6pgG",
        "colab_type": "code",
        "outputId": "883686a2-ad34-4ab8-da01-c5c436467ca5",
        "colab": {
          "base_uri": "https://localhost:8080/",
          "height": 848
        }
      },
      "source": [
        "for i in range(46): \n",
        "  if i not in dificuldade and i > 0:\n",
        "    for i \n"
      ],
      "execution_count": 0,
      "outputs": [
        {
          "output_type": "stream",
          "text": [
            "1\n",
            "2\n",
            "3\n",
            "4\n",
            "5\n",
            "6\n",
            "7\n",
            "8\n",
            "9\n",
            "10\n",
            "11\n",
            "12\n",
            "13\n",
            "14\n",
            "15\n",
            "16\n",
            "17\n",
            "18\n",
            "19\n",
            "20\n",
            "21\n",
            "22\n",
            "23\n",
            "24\n",
            "25\n",
            "26\n",
            "27\n",
            "28\n",
            "29\n",
            "30\n",
            "31\n",
            "32\n",
            "33\n",
            "34\n",
            "35\n",
            "36\n",
            "37\n",
            "38\n",
            "39\n",
            "40\n",
            "41\n",
            "42\n",
            "43\n",
            "44\n",
            "45\n"
          ],
          "name": "stdout"
        }
      ]
    },
    {
      "cell_type": "markdown",
      "metadata": {
        "id": "4rgplvk7HZf1",
        "colab_type": "text"
      },
      "source": [
        "# Topological Sort"
      ]
    },
    {
      "cell_type": "code",
      "metadata": {
        "id": "WA0_BOiGHYRX",
        "colab_type": "code",
        "colab": {}
      },
      "source": [
        " def alienOrder(self, words):  \n",
        "           if not len(words): return ''  \n",
        "           order = []  \n",
        "           for pair in list(zip(words, words[1:])):  \n",
        "                for x, y in zip(*pair):  \n",
        "                     if x != y:  \n",
        "                          order.append(x + y)  \n",
        "                          break  \n",
        "           letters = set(''.join(words))  \n",
        "           dictionary = []  \n",
        "           while order:\n",
        "                #print(list(zip(*order))[1])\n",
        "                #teste = list(zip(*order))[1]\n",
        "                teste = list(zip(*order))\n",
        "                if len(teste) > 0:\n",
        "                  teste = teste[1]\n",
        "                  print(teste)\n",
        "                  print('----------')\n",
        "                  free_letter = letters - (set(teste))\n",
        "                else:\n",
        "                  return ''.join(dictionary + list(letters))  \n",
        "                if not free_letter: \n",
        "                  return ''  \n",
        "\n",
        "                dictionary += free_letter  \n",
        "                order = filter(free_letter.isdisjoint, order)  \n",
        "                letters -= free_letter  \n",
        "           return ''.join(dictionary + list(letters))  "
      ],
      "execution_count": 0,
      "outputs": []
    },
    {
      "cell_type": "code",
      "metadata": {
        "id": "HP25Ta3hIXV5",
        "colab_type": "code",
        "outputId": "4cadbd1a-0fa8-4694-cc6a-6b44688a3799",
        "colab": {
          "base_uri": "https://localhost:8080/",
          "height": 109
        }
      },
      "source": [
        "palavras = [\"wrt\",\"wrf\",\"er\",\"ett\",\"rftt\"]\n",
        "#palavras = 'oi'\n",
        "alienOrder(3, palavras)"
      ],
      "execution_count": 0,
      "outputs": [
        {
          "output_type": "stream",
          "text": [
            "('f', 'e', 't', 'r')\n",
            "----------\n",
            "('f', 't', 'r')\n",
            "----------\n"
          ],
          "name": "stdout"
        },
        {
          "output_type": "execute_result",
          "data": {
            "text/plain": [
              "'wetrf'"
            ]
          },
          "metadata": {
            "tags": []
          },
          "execution_count": 88
        }
      ]
    },
    {
      "cell_type": "code",
      "metadata": {
        "id": "_ZieQWlS-ier",
        "colab_type": "code",
        "colab": {}
      },
      "source": [
        ""
      ],
      "execution_count": 0,
      "outputs": []
    },
    {
      "cell_type": "code",
      "metadata": {
        "id": "g_3N2Tcm-iYG",
        "colab_type": "code",
        "colab": {}
      },
      "source": [
        "#  def alienOrder(self, words):  \n",
        "#            if not len(words): return ''  \n",
        "#            order=[]  \n",
        "#            for pair in zip(words,words[1:]):  \n",
        "#                 for x,y in zip(*pair):  \n",
        "#                      if x!=y:  \n",
        "#                           order.append(x+y)  \n",
        "#                           break  \n",
        "#            letters=set(''.join(words))  \n",
        "#            dictionary=[]  \n",
        "#            while order:  \n",
        "#                 free_letter=letters-set(zip(*order)[1])  \n",
        "#                 if not free_letter: return ''  \n",
        "#                 dictionary+=free_letter  \n",
        "#                 order=filter(free_letter.isdisjoint,order)  \n",
        "#                 letters-=free_letter  \n",
        "#            return ''.join(dictionary+list(letters)) "
      ],
      "execution_count": 0,
      "outputs": []
    }
  ]
}